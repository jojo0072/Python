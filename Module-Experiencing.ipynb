{
 "cells": [
  {
   "cell_type": "markdown",
   "id": "5cc2e397-c2ed-4d57-a3fe-e78960020e67",
   "metadata": {},
   "source": [
    "NumPy, Matplotlib, Tkinter have seperate files"
   ]
  },
  {
   "cell_type": "markdown",
   "id": "44214a7c-a19d-4e42-82d0-eab008d9da0f",
   "metadata": {},
   "source": [
    "**1. Random**"
   ]
  },
  {
   "cell_type": "code",
   "execution_count": 1,
   "id": "2de2a8f1-125e-4fe3-bcbf-9b451b7f587b",
   "metadata": {},
   "outputs": [
    {
     "name": "stdout",
     "output_type": "stream",
     "text": [
      "1\n",
      "5\n",
      "5\n",
      "0.9342753731448349\n",
      "[3, 8, 1]\n",
      "[1, 8, 6, 3]\n"
     ]
    }
   ],
   "source": [
    "import random\n",
    "print(random.randrange(1, 11, 2)) \n",
    "\n",
    "print(random.randint(1, 10))\n",
    "\n",
    "print(random.choice([2, 3, 4, 5]))\n",
    "\n",
    "print(random.random())\n",
    "\n",
    "print(random.sample([3, 7, 8, 2, 1], k=3))\n",
    "\n",
    "x=[3, 6, 1, 8]\n",
    "random.shuffle(x)\n",
    "print(x)   "
   ]
  },
  {
   "cell_type": "markdown",
   "id": "0f34dbb2-91e4-43f8-8b59-4228d1b11709",
   "metadata": {},
   "source": [
    "**2. Math**"
   ]
  },
  {
   "cell_type": "code",
   "execution_count": 2,
   "id": "4b005471-beb4-498b-9ba6-f9e78d15cd3b",
   "metadata": {},
   "outputs": [
    {
     "name": "stdout",
     "output_type": "stream",
     "text": [
      "4.06201920231798\n",
      "2.718281828459045\n",
      "28.274333882308138\n",
      "2.718281828459045\n",
      "0.9589157234143065\n",
      "3.141592653589793\n",
      "90.06896539456541\n",
      "2.0\n",
      "1.9999539687959706\n"
     ]
    }
   ],
   "source": [
    "import math\n",
    "print(math.sqrt(16.5))\n",
    "print(math.exp(1))\n",
    "print(math.pi*math.pow(3,2))\n",
    "print(math.e)\n",
    "print(math.sin(360))\n",
    "print(math.radians(180))\n",
    "print(math.degrees(1.572))\n",
    "print(math.log(100, 10))\n",
    "print(math.pow(100, 0.15051))"
   ]
  },
  {
   "cell_type": "markdown",
   "id": "65d1c59e-ccd7-425d-97c2-b64b24849078",
   "metadata": {},
   "source": [
    "**3. Requests**"
   ]
  },
  {
   "cell_type": "code",
   "execution_count": null,
   "id": "a3d183cd-8f37-4209-bfb4-693ecb20d7c7",
   "metadata": {},
   "outputs": [],
   "source": [
    "# requests.get(url)\n",
    "# requests.delete(url)\n",
    "# requests.put(url)\n",
    "# requests.post(url)"
   ]
  },
  {
   "cell_type": "markdown",
   "id": "b372da25-10e0-4097-b0e0-203f18e86e65",
   "metadata": {},
   "source": [
    "**Json/CSV/Re/Tkinter/Turtle/Pygame/BeautifulSoup/pyautogui/Django**"
   ]
  },
  {
   "cell_type": "markdown",
   "id": "a275b095-5d4d-4b47-9b2e-615c8d5f59ac",
   "metadata": {},
   "source": [
    "**4. Time**"
   ]
  },
  {
   "cell_type": "code",
   "execution_count": 7,
   "id": "89bab287-f331-43a9-bda6-18e5fd5e4a25",
   "metadata": {},
   "outputs": [
    {
     "name": "stdout",
     "output_type": "stream",
     "text": [
      "1745587440.9428256\n",
      "Local time: 2025-04-25 15:24:00\n",
      "A\n",
      "B\n",
      "Elapsed time: 0.0001578999999765074 seconds\n"
     ]
    }
   ],
   "source": [
    "import time\n",
    "#print(f\"Time{time.strftime('%M:%S', time.process_time())}\")\n",
    "now=time.time()\n",
    "print(now) # in seconds\n",
    "local_time=time.localtime(now)\n",
    "print(f\"Local time: {time.strftime('%Y-%m-%d %H:%M:%S', local_time)}\") # strftime formats time\n",
    "print(\"A\")\n",
    "time.sleep(2)\n",
    "print(\"B\")\n",
    "# measure elapsed time\n",
    "start_time=time.perf_counter()\n",
    "end_time=time.perf_counter()\n",
    "print(f\"Elapsed time: {end_time-start_time} seconds\")"
   ]
  },
  {
   "cell_type": "code",
   "execution_count": null,
   "id": "4a979f34-d8f9-48a9-beda-60f12307b00c",
   "metadata": {},
   "outputs": [],
   "source": [
    "start_time=time.perf_counter()\n",
    "while True:\n",
    "        elapsed = int(time.perf_counter() - start_time)\n",
    "        minutes = elapsed // 60\n",
    "        seconds = elapsed % 60\n",
    "        print(f\"\\rTime: {minutes:02d}:{seconds:02d})\n",
    "        time.sleep(1)"
   ]
  },
  {
   "cell_type": "markdown",
   "id": "19c5caac-0645-42ac-9556-576a6b944138",
   "metadata": {},
   "source": [
    "**5. String**"
   ]
  },
  {
   "cell_type": "code",
   "execution_count": 22,
   "id": "a1de3aff-95d5-42b8-b36e-ab0668a2f6ff",
   "metadata": {},
   "outputs": [
    {
     "name": "stdout",
     "output_type": "stream",
     "text": [
      "abcdefghijklmnopqrstuvwxyzABCDEFGHIJKLMNOPQRSTUVWXYZ\n",
      "abcdefghijklmnopqrstuvwxyz\n",
      "ABCDEFGHIJKLMNOPQRSTUVWXYZ\n",
      "0123456789\n",
      "!\"#$%&'()*+,-./:;<=>?@[\\]^_`{|}~\n",
      "0123456789abcdefghijklmnopqrstuvwxyzABCDEFGHIJKLMNOPQRSTUVWXYZ!\"#$%&'()*+,-./:;<=>?@[\\]^_`{|}~ \t\n",
      "\u000b",
      "\f",
      "\n",
      " \t\n",
      "\u000b",
      "\f",
      "\n"
     ]
    }
   ],
   "source": [
    "import string\n",
    "print(string.ascii_letters)\n",
    "print(string.ascii_lowercase)\n",
    "print(string.ascii_uppercase)\n",
    "print(string.digits)\n",
    "print(string.punctuation)\n",
    "print(string.printable) # any printable chars\n",
    "print(string.whitespace)"
   ]
  },
  {
   "cell_type": "markdown",
   "id": "1b76a240-5e8c-459a-952e-aafeb59a3800",
   "metadata": {},
   "source": [
    "**6. Os**"
   ]
  },
  {
   "cell_type": "code",
   "execution_count": 20,
   "id": "020fb5b1-d938-41a1-8bd5-11277be01ab4",
   "metadata": {},
   "outputs": [
    {
     "name": "stdout",
     "output_type": "stream",
     "text": [
      "hey\n",
      "end\n"
     ]
    }
   ],
   "source": [
    "import os\n",
    "print(\"hey\")\n",
    "os.system(\"cls\") #  doesn't work because of jupyter\n",
    "print(\"end\")"
   ]
  },
  {
   "cell_type": "code",
   "execution_count": null,
   "id": "38b0b413-bd6c-4ddb-a844-946b070998bd",
   "metadata": {},
   "outputs": [],
   "source": []
  },
  {
   "cell_type": "code",
   "execution_count": null,
   "id": "9dc962b8-5071-4e0d-bb19-a58bb130990b",
   "metadata": {},
   "outputs": [],
   "source": []
  },
  {
   "cell_type": "markdown",
   "id": "47d3f807-17d6-4467-abd3-168c17e516ec",
   "metadata": {},
   "source": [
    "**7. Pytubefix, pydub, moviepy**"
   ]
  },
  {
   "cell_type": "code",
   "execution_count": null,
   "id": "623d92da-9f98-4e0f-a322-9e24006bf3ca",
   "metadata": {},
   "outputs": [],
   "source": []
  },
  {
   "cell_type": "code",
   "execution_count": null,
   "id": "ac155dc7-442c-4056-af9b-d1872bd73a09",
   "metadata": {},
   "outputs": [],
   "source": [
    "from pytubefix import YouTube\n",
    "from pydub import AudioSegment\n",
    "from moviepy import VideoFileClip, AudioFileClip\n",
    "\n",
    "\n",
    "yt = YouTube(\"https://youtu.be/VM_Vt6TD-S0?si=Axj3BoW-esR4hMnr\") # works also with Playlists, but then with for loop\n",
    "print(\"Title:\", yt.title)\n",
    "print(\"Thumbnail:\", yt.thumbnail_url)\n",
    "\n",
    "file_type=[\"mp4\", \"mp3\"]\n",
    "choice=file_type[1]\n",
    "\n",
    "video_stream=yt.streams.filter(file_extension=\"mp4\", only_video=True).order_by(\"resolution\").desc()  # only_video -> audio version available\n",
    "resolutions=[stream.resolution for stream in video_stream[::2]]\n",
    "print(resolutions)\n",
    "#video=yt.streams.filter(res=, only_video=True).first()\n",
    "#video_file=video.download(filename=\"video.mp4\")\n",
    "\n",
    "audio_stream=yt.streams.filter(only_audio=True).first()\n",
    "audio_file=audio_stream.download(filename=\"audio.mp4\")\n",
    "\n",
    "audio=AudioSegment.from_file(audio_file)\n",
    "audio.export(\"audio.mp3\",format=\"mp3\")\n",
    "\n",
    "final_vid=VideoFileClip(video_file)\n",
    "final_audio=AudioFileClip(audio_file)\n",
    "final_vid=final_vid.set_audio(final_audio)\n",
    "\n",
    "final_vid.write_videofile(\"result.mp4\")\n",
    "\n",
    "\n",
    "# choose resolution\n",
    "# chose mp4, mp3"
   ]
  },
  {
   "cell_type": "markdown",
   "id": "da841eb1-4b2e-4774-b6fb-bb7fd9e0fc45",
   "metadata": {},
   "source": [
    "**8. qrcode x PIL**"
   ]
  },
  {
   "cell_type": "code",
   "execution_count": 8,
   "id": "78f0e10c-fbcf-44d7-8e13-8569008fc6c3",
   "metadata": {},
   "outputs": [
    {
     "name": "stdout",
     "output_type": "stream",
     "text": [
      "(290, 290)\n"
     ]
    }
   ],
   "source": [
    "from PIL import Image\n",
    "import qrcode\n",
    "# really simplistic, cant change much\n",
    "qr=qrcode.make(\"Moin\")\n",
    "k=qr.save(\"image.png\")\n",
    "k=Image.open(\"image.png\")\n",
    "print(k.size)\n",
    "k.show()"
   ]
  },
  {
   "cell_type": "code",
   "execution_count": 31,
   "id": "da88d0b9-3b52-401f-9192-fa5fbf2e06cc",
   "metadata": {},
   "outputs": [],
   "source": [
    "import qrcode\n",
    "qr = qrcode.QRCode(version=20) # change advanced settings, tuple; version (size from 1-40)\n",
    "qr.add_data('This is a QR code.') # add the data the qr code should display\n",
    "qr.make(fit=True) # optimize size proportions\n",
    "img = qr.make_image(fill_color=\"black\", back_color=\"lightblue\") # change colors\n",
    "img.save('qr1.png') # save the qr code\n",
    "# do max 20"
   ]
  },
  {
   "cell_type": "markdown",
   "id": "3ce6f6ca-8a65-41e3-96e8-bf1f3aefd229",
   "metadata": {},
   "source": [
    "1. rembg.remove() removes bg of image\n",
    "2. re.split() splits with multiple seperators\n",
    "3. imghdr.what(file) returns file type"
   ]
  },
  {
   "cell_type": "markdown",
   "id": "b3197a47-2f8e-4e04-bf03-d54980cdb5dd",
   "metadata": {},
   "source": [
    "Pillow.Image: putalpha()-> transparency, open, save, show, new, paste"
   ]
  },
  {
   "cell_type": "code",
   "execution_count": null,
   "id": "2aa588be-46ec-42c9-8d6e-91c72e3ffdf2",
   "metadata": {},
   "outputs": [],
   "source": [
    "from PIL import Image\n",
    "import qrcode\n",
    "from rembg import remove\n",
    "import os\n",
    "\n",
    "qr = qrcode.QRCode(version=20) # change advanced settings, tuple; version (size from 1-40)\n",
    "qr.add_data('Du dummer Hund') # add the data the qr code should new\n",
    "qr.make(fit=True) # optimize size proportions\n",
    "code = qr.make_image(back_color=\"green\") # change colors\n",
    "code.save('qr1.png') # save the qr code\n",
    "# do max 20\n",
    "\n",
    "pil_qr=Image.open(\"qr1.png\")\n",
    "print(pil_qr.size)# tuple with width, height of qrcode\n",
    "img=Image.open(r\"D:\\Daniel Rabe\\Downloads\\apple.png\").convert(\"RGBA\")\n",
    "original_size=tuple(img.size) # original size of logo as tuple\n",
    "#print(original_size)\n",
    "img.show() # show original logo\n",
    "resized_dim=int(pil_qr.size[0]*0.25) # adapted size of logo on top of qr\n",
    "print(resized_dim)\n",
    "#img.putalpha(200)\n",
    "#img.show()\n",
    "img=remove(img) # remove bg of logo\n",
    "img.show()\n",
    "img=img.resize((int(pil_qr.size[0]*0.2), int((pil_qr.size[0]*0.2)*original_size[1]/original_size[0]))) # resize logo with same proportions, image filter\n",
    "img.save(\"D:\\\\Daniel Rabe\\\\Downloads\\\\newlogo.png\") # save changed logo\n",
    "new=Image.open(\"D:\\\\Daniel Rabe\\\\Downloads\\\\newlogo.png\")\n",
    "new.show()\n",
    "\n",
    "logo_size=tuple(new.size)\n",
    "\n",
    "bg=Image.new(\"RGB\", (resized_dim, resized_dim), (255,255,255))\n",
    "pos_bg=((resized_dim-logo_size[0])//2, (resized_dim-logo_size[1])//2)\n",
    "bg.paste(new, pos_bg, mask=new)\n",
    "bg.show()\n",
    "\n",
    "#mask=Image.new(\"L\", bg.size, 255)\n",
    "#bg.putalpha(mask.filter(ImageFilter.GaussianBlur(radius=8)))\n",
    "\n",
    "position=((pil_qr.size[0]-resized_dim)//2,\n",
    "          (pil_qr.size[1]-resized_dim)//2) # determine position of logo in qr code\n",
    "print(\"Position1\", position[0], \"Position2\", position[1])\n",
    "\n",
    "bg=bg.convert(\"RGBA\")\n",
    "bg.save(\"D:\\\\Daniel Rabe\\\\Downloads\\\\newlogo.png\")\n",
    "bg.show()\n",
    "\n",
    "pil_qr=pil_qr.convert(\"RGBA\")\n",
    "pil_qr.save(\"qr1.png\")\n",
    "\n",
    "print(resized_dim, \"\\n\",qr_size)\n",
    "pil_qr.paste(bg, position, mask=bg) # merge logo and qr\n",
    "pil_qr.save(\"result.png\")\n",
    "pil_qr.show()"
   ]
  }
 ],
 "metadata": {
  "kernelspec": {
   "display_name": "Python 3 (ipykernel)",
   "language": "python",
   "name": "python3"
  },
  "language_info": {
   "codemirror_mode": {
    "name": "ipython",
    "version": 3
   },
   "file_extension": ".py",
   "mimetype": "text/x-python",
   "name": "python",
   "nbconvert_exporter": "python",
   "pygments_lexer": "ipython3",
   "version": "3.12.0"
  }
 },
 "nbformat": 4,
 "nbformat_minor": 5
}
