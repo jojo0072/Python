{
 "cells": [
  {
   "cell_type": "markdown",
   "id": "5cc2e397-c2ed-4d57-a3fe-e78960020e67",
   "metadata": {},
   "source": [
    "NumPy, Matplotlib, Tkinter have seperate files"
   ]
  },
  {
   "cell_type": "markdown",
   "id": "44214a7c-a19d-4e42-82d0-eab008d9da0f",
   "metadata": {},
   "source": [
    "**1. Random**"
   ]
  },
  {
   "cell_type": "code",
   "execution_count": 13,
   "id": "2de2a8f1-125e-4fe3-bcbf-9b451b7f587b",
   "metadata": {},
   "outputs": [
    {
     "name": "stdout",
     "output_type": "stream",
     "text": [
      "5\n",
      "2\n",
      "4\n",
      "0.3256924391586078\n",
      "[8, 7, 1]\n",
      "[1, 6, 8, 3]\n"
     ]
    }
   ],
   "source": [
    "import random\n",
    "print(random.randrange(1, 11, 2)) \n",
    "\n",
    "print(random.randint(1, 10))\n",
    "\n",
    "print(random.choice([2, 3, 4, 5]))\n",
    "\n",
    "print(random.random())\n",
    "\n",
    "print(random.sample([3, 7, 8, 2, 1], k=3))\n",
    "\n",
    "x=[3, 6, 1, 8]\n",
    "random.shuffle(x)\n",
    "print(x)   "
   ]
  },
  {
   "cell_type": "markdown",
   "id": "0f34dbb2-91e4-43f8-8b59-4228d1b11709",
   "metadata": {},
   "source": [
    "**2. Math**"
   ]
  },
  {
   "cell_type": "code",
   "execution_count": 2,
   "id": "4b005471-beb4-498b-9ba6-f9e78d15cd3b",
   "metadata": {},
   "outputs": [
    {
     "name": "stdout",
     "output_type": "stream",
     "text": [
      "4.06201920231798\n",
      "2.718281828459045\n",
      "28.274333882308138\n",
      "2.718281828459045\n",
      "0.9589157234143065\n",
      "3.141592653589793\n",
      "90.06896539456541\n",
      "2.0\n",
      "1.9999539687959706\n"
     ]
    }
   ],
   "source": [
    "import math\n",
    "print(math.sqrt(16.5))\n",
    "print(math.exp(1))\n",
    "print(math.pi*math.pow(3,2))\n",
    "print(math.e)\n",
    "print(math.sin(360))\n",
    "print(math.radians(180))\n",
    "print(math.degrees(1.572))\n",
    "print(math.log(100, 10))\n",
    "print(math.pow(100, 0.15051))"
   ]
  },
  {
   "cell_type": "markdown",
   "id": "65d1c59e-ccd7-425d-97c2-b64b24849078",
   "metadata": {},
   "source": [
    "**3. Requests**"
   ]
  },
  {
   "cell_type": "code",
   "execution_count": null,
   "id": "a3d183cd-8f37-4209-bfb4-693ecb20d7c7",
   "metadata": {},
   "outputs": [],
   "source": [
    "# requests.get(url)\n",
    "# requests.delete(url)\n",
    "# requests.put(url)\n",
    "# requests.post(url)"
   ]
  },
  {
   "cell_type": "markdown",
   "id": "b372da25-10e0-4097-b0e0-203f18e86e65",
   "metadata": {},
   "source": [
    "**Json/CSV/Re/Tkinter/Turtle/Pygame/BeautifulSoup/pyautogui/Django**"
   ]
  },
  {
   "cell_type": "markdown",
   "id": "a275b095-5d4d-4b47-9b2e-615c8d5f59ac",
   "metadata": {},
   "source": [
    "**4. Time**"
   ]
  },
  {
   "cell_type": "code",
   "execution_count": 21,
   "id": "89bab287-f331-43a9-bda6-18e5fd5e4a25",
   "metadata": {},
   "outputs": [
    {
     "name": "stdout",
     "output_type": "stream",
     "text": [
      "1716058882.5422595\n",
      "Local time: 2024-05-18 21:01:22\n",
      "A\n",
      "B\n",
      "Elapsed time: 7.430000005115289e-05 seconds\n"
     ]
    }
   ],
   "source": [
    "import time\n",
    "now=time.time()\n",
    "print(now) # in seconds\n",
    "local_time=time.localtime(now)\n",
    "print(f\"Local time: {time.strftime('%Y-%m-%d %H:%M:%S', local_time)}\") # strftime formats time\n",
    "print(\"A\")\n",
    "time.sleep(2)\n",
    "print(\"B\")\n",
    "# measure elapsed time\n",
    "start_time=time.perf_counter()\n",
    "end_time=time.perf_counter()\n",
    "print(f\"Elapsed time: {end_time-start_time} seconds\")"
   ]
  },
  {
   "cell_type": "markdown",
   "id": "19c5caac-0645-42ac-9556-576a6b944138",
   "metadata": {},
   "source": [
    "**5. String**"
   ]
  },
  {
   "cell_type": "code",
   "execution_count": 22,
   "id": "a1de3aff-95d5-42b8-b36e-ab0668a2f6ff",
   "metadata": {},
   "outputs": [
    {
     "name": "stdout",
     "output_type": "stream",
     "text": [
      "abcdefghijklmnopqrstuvwxyzABCDEFGHIJKLMNOPQRSTUVWXYZ\n",
      "abcdefghijklmnopqrstuvwxyz\n",
      "ABCDEFGHIJKLMNOPQRSTUVWXYZ\n",
      "0123456789\n",
      "!\"#$%&'()*+,-./:;<=>?@[\\]^_`{|}~\n",
      "0123456789abcdefghijklmnopqrstuvwxyzABCDEFGHIJKLMNOPQRSTUVWXYZ!\"#$%&'()*+,-./:;<=>?@[\\]^_`{|}~ \t\n",
      "\u000b",
      "\f",
      "\n",
      " \t\n",
      "\u000b",
      "\f",
      "\n"
     ]
    }
   ],
   "source": [
    "import string\n",
    "print(string.ascii_letters)\n",
    "print(string.ascii_lowercase)\n",
    "print(string.ascii_uppercase)\n",
    "print(string.digits)\n",
    "print(string.punctuation)\n",
    "print(string.printable) # any printable chars\n",
    "print(string.whitespace)"
   ]
  },
  {
   "cell_type": "markdown",
   "id": "1b76a240-5e8c-459a-952e-aafeb59a3800",
   "metadata": {},
   "source": [
    "**6. Os**"
   ]
  },
  {
   "cell_type": "code",
   "execution_count": 20,
   "id": "020fb5b1-d938-41a1-8bd5-11277be01ab4",
   "metadata": {},
   "outputs": [
    {
     "name": "stdout",
     "output_type": "stream",
     "text": [
      "hey\n",
      "end\n"
     ]
    }
   ],
   "source": [
    "import os\n",
    "print(\"hey\")\n",
    "os.system(\"cls\") #  doesn't work because of jupyter\n",
    "print(\"end\")"
   ]
  },
  {
   "cell_type": "code",
   "execution_count": null,
   "id": "9dc962b8-5071-4e0d-bb19-a58bb130990b",
   "metadata": {},
   "outputs": [],
   "source": []
  }
 ],
 "metadata": {
  "kernelspec": {
   "display_name": "Python 3 (ipykernel)",
   "language": "python",
   "name": "python3"
  },
  "language_info": {
   "codemirror_mode": {
    "name": "ipython",
    "version": 3
   },
   "file_extension": ".py",
   "mimetype": "text/x-python",
   "name": "python",
   "nbconvert_exporter": "python",
   "pygments_lexer": "ipython3",
   "version": "3.12.0"
  }
 },
 "nbformat": 4,
 "nbformat_minor": 5
}
