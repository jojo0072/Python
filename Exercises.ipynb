{
 "cells": [
  {
   "cell_type": "markdown",
   "id": "13ce1b09-f0ea-479e-8d05-ea628880c488",
   "metadata": {},
   "source": [
    "**Python Basics**"
   ]
  },
  {
   "cell_type": "code",
   "execution_count": 60,
   "id": "b141f08b-99e9-4cbd-a234-25837622784b",
   "metadata": {},
   "outputs": [
    {
     "name": "stdout",
     "output_type": "stream",
     "text": [
      "Twinkle, twinkle, little star,\n",
      "\tHow I wonder what you are!\n",
      "\t\tUp above the world so high,\n",
      "\t\tLike a diamond in the sky.\n",
      "Twinkle, twinkle, little star,\n",
      "\tHow I wonder what you are\n"
     ]
    }
   ],
   "source": [
    "#1 \n",
    "\n",
    "# multiline ?\n",
    "print(\"Twinkle, twinkle, little star,\\n\\tHow I wonder what you are!\\n\\t\\tUp above the world so high,\\n\\t\\tLike a diamond in the sky.\\nTwinkle, twinkle, little star,\\n\\tHow I wonder what you are\")\n",
    "#3 current date\n",
    "#7 filename\n",
    "#10 formatting\n",
    "#11 funct\n",
    "#12 calendar\n",
    "#14 datetime\n",
    "# 40 - 41\n",
    "\n",
    "# easy 18-27\n",
    "# rest either the same or knowledge of modules like os etc."
   ]
  },
  {
   "cell_type": "code",
   "execution_count": 27,
   "id": "f5b0b3dc-8619-49c0-ad3a-7e44fbb1f3d3",
   "metadata": {},
   "outputs": [
    {
     "name": "stdout",
     "output_type": "stream",
     "text": [
      "3.12.0 (tags/v3.12.0:0fb18b0, Oct  2 2023, 13:03:39) [MSC v.1935 64 bit (AMD64)]\n"
     ]
    }
   ],
   "source": [
    "#2\n",
    "import sys\n",
    "print(sys.version)"
   ]
  },
  {
   "cell_type": "code",
   "execution_count": 28,
   "id": "423c3306-f2c1-4b03-b010-9ba3ab5aacf7",
   "metadata": {},
   "outputs": [
    {
     "name": "stdin",
     "output_type": "stream",
     "text": [
      "Radius to determine area of a circle:  1\n"
     ]
    },
    {
     "name": "stdout",
     "output_type": "stream",
     "text": [
      "Area:  3.141592653589793\n"
     ]
    }
   ],
   "source": [
    "#4\n",
    "import math\n",
    "x=input(\"Radius to determine area of a circle: \")\n",
    "print(\"Area: \", math.pi*pow(float(x), 2))"
   ]
  },
  {
   "cell_type": "code",
   "execution_count": null,
   "id": "c9770a81-2481-4c39-ae54-1deb58b2efab",
   "metadata": {},
   "outputs": [],
   "source": [
    "#5\n",
    "names=input(\"Enter first and last name: \")\n",
    "n=names.split()\n",
    "print(f\"{n[1]} {n[0]}\")"
   ]
  },
  {
   "cell_type": "code",
   "execution_count": 29,
   "id": "185fd125-58e0-4560-a4dd-617d0ea68dd3",
   "metadata": {},
   "outputs": [
    {
     "name": "stdout",
     "output_type": "stream",
     "text": [
      "['3', '5', '7', '23'] ('3', '5', '7', '23')\n"
     ]
    }
   ],
   "source": [
    "#6\n",
    "num=\"3, 5, 7, 23\"\n",
    "list=num.split(\", \")\n",
    "tuple=tuple(list)\n",
    "print(list, tuple)"
   ]
  },
  {
   "cell_type": "code",
   "execution_count": 30,
   "id": "b8bc292c-9097-45b2-a1c4-02d497fe1ab8",
   "metadata": {},
   "outputs": [
    {
     "name": "stdout",
     "output_type": "stream",
     "text": [
      "Red Black\n"
     ]
    }
   ],
   "source": [
    "#8 \n",
    "color_list = [\"Red\",\"Green\",\"White\" ,\"Black\"]\n",
    "print(color_list[0], color_list[-1])"
   ]
  },
  {
   "cell_type": "code",
   "execution_count": 33,
   "id": "e2681f3f-ec5b-452b-b523-1898ee24f437",
   "metadata": {},
   "outputs": [
    {
     "name": "stdout",
     "output_type": "stream",
     "text": [
      "The examination will start from : 11 / 12 / 2014\n",
      "The examination will start from : 11 / 12 / 2014\n"
     ]
    }
   ],
   "source": [
    "#9 \n",
    "exam_st_date = (11, 12, 2014)\n",
    "print(\"The examination will start from : {} / {} / {}\".format(exam_st_date[0], exam_st_date[1], exam_st_date[2]))\n",
    "# interesting solution \n",
    "print(\"The examination will start from : %i / %i / %i\" % exam_st_date)\n"
   ]
  },
  {
   "cell_type": "code",
   "execution_count": 42,
   "id": "e18c6c9c-c56a-400f-9374-dc9a26e4a433",
   "metadata": {},
   "outputs": [
    {
     "name": "stdout",
     "output_type": "stream",
     "text": [
      "a string that you \"don't\" have to escape\n",
      "This\n",
      "is a ....... multi-line\n",
      "heredoc string --------> example\n"
     ]
    }
   ],
   "source": [
    "#13\n",
    "print(\"\"\"a string that you \"don't\" have to escape\n",
    "This\n",
    "is a ....... multi-line\n",
    "heredoc string --------> example\"\"\")"
   ]
  },
  {
   "cell_type": "code",
   "execution_count": 50,
   "id": "766653a1-e3f8-49e9-96d9-575451c297dd",
   "metadata": {},
   "outputs": [
    {
     "name": "stdout",
     "output_type": "stream",
     "text": [
      "9\n"
     ]
    }
   ],
   "source": [
    "#14 \n",
    "x=(2014, 7, 2)\n",
    "y=(2014, 7, 11)\n",
    "days=0\n",
    "days+=(y[0]-x[0])*365\n",
    "days+=(y[1]-x[1])*30\n",
    "days+=y[2]-x[2]\n",
    "print(days)"
   ]
  },
  {
   "cell_type": "code",
   "execution_count": 51,
   "id": "02559482-1cd5-4249-a07c-ad07bb26ef9a",
   "metadata": {},
   "outputs": [
    {
     "name": "stdout",
     "output_type": "stream",
     "text": [
      "904.7786842338603\n"
     ]
    }
   ],
   "source": [
    "#15\n",
    "import math\n",
    "r=6\n",
    "print(4/3 * math.pi * pow(r, 3))"
   ]
  },
  {
   "cell_type": "code",
   "execution_count": 54,
   "id": "35b619db-7144-484d-bd51-46ab198b1663",
   "metadata": {},
   "outputs": [
    {
     "name": "stdin",
     "output_type": "stream",
     "text": [
      "Number:  30\n"
     ]
    },
    {
     "name": "stdout",
     "output_type": "stream",
     "text": [
      "26.0\n"
     ]
    }
   ],
   "source": [
    "#16\n",
    "num=float(input(\"Number: \"))\n",
    "if num <= 17.0:\n",
    "    print(17.0-num)\n",
    "else:\n",
    "    print(2*(abs(num)-17))"
   ]
  },
  {
   "cell_type": "code",
   "execution_count": null,
   "id": "abf27a14-3320-4bd3-98d9-69df4e924d91",
   "metadata": {},
   "outputs": [],
   "source": [
    "#17\n",
    "def near_thousand(n):\n",
    "    return ((abs(1000 - n) <= 100) or (abs(2000 - n) <= 100))"
   ]
  },
  {
   "cell_type": "code",
   "execution_count": 56,
   "id": "748de07e-9737-42d6-8296-cd44e190af9e",
   "metadata": {},
   "outputs": [
    {
     "name": "stdout",
     "output_type": "stream",
     "text": [
      "[386, 462, 418, 344, 236, 566, 978, 328, 162, 758, 918]\n"
     ]
    }
   ],
   "source": [
    "#28\n",
    "numbers = [    \n",
    "    386, 462, 47, 418, 907, 344, 236, 375, 823, 566, 597, 978, 328, 615, 953, 345, \n",
    "    399, 162, 758, 219, 918, 237, 412, 566, 826, 248, 866, 950, 626, 949, 687, 217, \n",
    "    815, 67, 104, 58, 512, 24, 892, 894, 767, 553, 81, 379, 843, 831, 445, 742, 717, \n",
    "    958,743, 527\n",
    "    ]\n",
    "new=[]\n",
    "for x in numbers:\n",
    "    if x == 237:\n",
    "        break\n",
    "    if x % 2==0:\n",
    "        new.append(x)\n",
    "print(new)        "
   ]
  },
  {
   "cell_type": "code",
   "execution_count": 57,
   "id": "95fd3045-67e8-4c95-8632-6ae5d5d48959",
   "metadata": {},
   "outputs": [
    {
     "name": "stdout",
     "output_type": "stream",
     "text": [
      "16\n"
     ]
    }
   ],
   "source": [
    "#31\n",
    "print(math.gcd(16, 160))"
   ]
  },
  {
   "cell_type": "code",
   "execution_count": 59,
   "id": "905ece42-d7c7-45c6-96dd-cf504ff754b1",
   "metadata": {},
   "outputs": [
    {
     "name": "stdout",
     "output_type": "stream",
     "text": [
      "77\n"
     ]
    }
   ],
   "source": [
    "#36\n",
    "x=33\n",
    "y=44\n",
    "if type(x) == type(y):\n",
    "    print(x+y)"
   ]
  },
  {
   "cell_type": "markdown",
   "id": "86d0e147-d22b-4d76-b4ae-9145578725c4",
   "metadata": {},
   "source": [
    "**Conditional statements and loops**"
   ]
  },
  {
   "cell_type": "code",
   "execution_count": null,
   "id": "9667660c-2e13-421e-9bac-5780b2238661",
   "metadata": {},
   "outputs": [],
   "source": [
    "#1\n"
   ]
  }
 ],
 "metadata": {
  "kernelspec": {
   "display_name": "Python 3 (ipykernel)",
   "language": "python",
   "name": "python3"
  },
  "language_info": {
   "codemirror_mode": {
    "name": "ipython",
    "version": 3
   },
   "file_extension": ".py",
   "mimetype": "text/x-python",
   "name": "python",
   "nbconvert_exporter": "python",
   "pygments_lexer": "ipython3",
   "version": "3.12.0"
  }
 },
 "nbformat": 4,
 "nbformat_minor": 5
}
