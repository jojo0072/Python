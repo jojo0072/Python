{
 "cells": [
  {
   "cell_type": "markdown",
   "id": "43c81660-e26c-427b-b7ba-594064920898",
   "metadata": {},
   "source": [
    "# Python Overview"
   ]
  },
  {
   "cell_type": "markdown",
   "id": "9ef639bc-bc92-4c03-828f-b2b737b242bf",
   "metadata": {},
   "source": [
    "**1. Expression**"
   ]
  },
  {
   "cell_type": "code",
   "execution_count": 1,
   "id": "33056eca-d72a-4bbc-9e21-db9cc290f3c6",
   "metadata": {},
   "outputs": [
    {
     "name": "stdout",
     "output_type": "stream",
     "text": [
      "8 \n",
      "Peter ist 65 Jahre alt.\n"
     ]
    }
   ],
   "source": [
    "x=2+2*3\n",
    "k=\"\\nPeter ist \" + \"65 Jahre alt.\"\n",
    "print(x, k)"
   ]
  },
  {
   "cell_type": "markdown",
   "id": "e94b6284-feca-4425-9b60-1fc89b1f36dc",
   "metadata": {},
   "source": [
    "**2. Variables**"
   ]
  },
  {
   "cell_type": "markdown",
   "id": "b33c1cb1-145c-4cb4-b350-d5f2e8e5bcb2",
   "metadata": {},
   "source": [
    "2.1. Initializing a variable"
   ]
  },
  {
   "cell_type": "code",
   "execution_count": 2,
   "id": "136b09cf-2e27-4679-8499-23c020d41eb1",
   "metadata": {},
   "outputs": [],
   "source": [
    "a = 5  # int data type\n",
    "# = is not equal to ==\n",
    "b=\"Moin\" # str data type\n",
    "c=3.44 # float data type\n",
    "d=[1, \"kkkk\"] # list data type"
   ]
  },
  {
   "cell_type": "markdown",
   "id": "5ce77c50-01c7-422b-9b65-ee6254abb4e9",
   "metadata": {},
   "source": [
    "2.1.1. Use a variable after it's initialized"
   ]
  },
  {
   "cell_type": "code",
   "execution_count": 3,
   "id": "9dc5e5f2-87d7-4401-a701-53b2126e0853",
   "metadata": {},
   "outputs": [
    {
     "name": "stdout",
     "output_type": "stream",
     "text": [
      "Moin\n"
     ]
    }
   ],
   "source": [
    "print(b)"
   ]
  },
  {
   "cell_type": "markdown",
   "id": "6b970bc8-ca67-44ca-baf3-1f33de706f18",
   "metadata": {},
   "source": [
    "2.2. Overwriting"
   ]
  },
  {
   "cell_type": "code",
   "execution_count": 4,
   "id": "0167e315-577d-4e8c-813f-cda9d635d245",
   "metadata": {},
   "outputs": [
    {
     "name": "stdout",
     "output_type": "stream",
     "text": [
      "999999\n"
     ]
    }
   ],
   "source": [
    "b=999999\n",
    "print(b)"
   ]
  },
  {
   "cell_type": "markdown",
   "id": "f58c8122-911c-48aa-8a91-1abcfd802fbc",
   "metadata": {},
   "source": [
    "2.3. Single and double quotes (Quotation inside of strings -> )"
   ]
  },
  {
   "cell_type": "code",
   "execution_count": 5,
   "id": "e1aff20b-fbba-4a92-9097-5b2c9580b17b",
   "metadata": {},
   "outputs": [
    {
     "name": "stdout",
     "output_type": "stream",
     "text": [
      "Hallo\n",
      "Hallo\n"
     ]
    }
   ],
   "source": [
    "e=\"Hallo\"\n",
    "f='Hallo'\n",
    "print(e, f, sep='\\n')"
   ]
  },
  {
   "cell_type": "markdown",
   "id": "6677577a-31f1-49ad-adeb-4c67c442d82f",
   "metadata": {},
   "source": [
    "2.4. Variable Names"
   ]
  },
  {
   "cell_type": "markdown",
   "id": "0a11117f-a5e5-4b3f-90eb-20e31182205b",
   "metadata": {},
   "source": [
    "2.4.1. Good variable name"
   ]
  },
  {
   "cell_type": "code",
   "execution_count": 6,
   "id": "db554964-7bd5-4006-8b95-3003f3033450",
   "metadata": {},
   "outputs": [],
   "source": [
    "greeting=\"Servus\" # good description, lowercase"
   ]
  },
  {
   "cell_type": "markdown",
   "id": "d82089a5-0017-46c1-a84a-ce6f3c308a89",
   "metadata": {},
   "source": [
    "2.4.1. Possible variable names"
   ]
  },
  {
   "cell_type": "code",
   "execution_count": 7,
   "id": "ced02474-ccfc-4ddc-975f-4ce7904a20d7",
   "metadata": {},
   "outputs": [],
   "source": [
    "hey=88 # one word\n",
    "jojo8z=77 # numbers\n",
    "jojo_r=99 # underscore\n",
    "Jojo=55 # uppercase"
   ]
  },
  {
   "cell_type": "markdown",
   "id": "1806b57e-39c2-43c6-98b8-ed6e4bbbdbf5",
   "metadata": {},
   "source": [
    "2.4.2. Naming Techniques"
   ]
  },
  {
   "cell_type": "markdown",
   "id": "ad6a47a1-fc24-430d-8f90-06f311a93c8f",
   "metadata": {},
   "source": [
    "2.4.2.1. Pascal Case"
   ]
  },
  {
   "cell_type": "code",
   "execution_count": 8,
   "id": "395dd46d-5468-4ff8-8760-03591c70d733",
   "metadata": {},
   "outputs": [],
   "source": [
    "MyLittleBro=0.5"
   ]
  },
  {
   "cell_type": "markdown",
   "id": "85791a79-1ed0-491e-9d47-b369246ac8a6",
   "metadata": {},
   "source": [
    "2.4.2.2. Snake Case"
   ]
  },
  {
   "cell_type": "code",
   "execution_count": 9,
   "id": "76d0ab4a-7d4f-495a-b188-52a06b50e158",
   "metadata": {},
   "outputs": [],
   "source": [
    "my_little_bro=0.3"
   ]
  },
  {
   "cell_type": "markdown",
   "id": "0c08bb9e-5c2e-40ce-9ea5-a79e0516a1a2",
   "metadata": {},
   "source": [
    "2.4.2.3. Camel Case"
   ]
  },
  {
   "cell_type": "code",
   "execution_count": 10,
   "id": "387db5dd-712f-4edc-b577-4fcfe658f8a6",
   "metadata": {},
   "outputs": [],
   "source": [
    "myLittleBro=0.7"
   ]
  },
  {
   "cell_type": "markdown",
   "id": "a43fb6fb-a2c2-464f-8e47-852983756af7",
   "metadata": {},
   "source": [
    "2.5. Casting"
   ]
  },
  {
   "cell_type": "code",
   "execution_count": 2,
   "id": "752ec721-40b5-4064-bb68-d7e213750f3a",
   "metadata": {},
   "outputs": [],
   "source": [
    "strcas=str(\"Goofy\") \n",
    "intcas=int(8) # float, complex work the same\n",
    "listcas=list((\"apple\", \"banana\", \"cherry\")) # tuple, set, frozenset work the same\n",
    "dictcas=dict(name=\"John\", age=44)\n",
    "boolcas=bool(9) # range, bytes and  bytearray work the same\n",
    "memoryviewcas=(bytes(4))\n",
    "\n",
    "#Works also with float, complex, tuple, range, set,\n",
    "#frozenset, bytes and bytearray"
   ]
  },
  {
   "cell_type": "markdown",
   "id": "164ab7a4-99ba-4fd1-ade9-e11b42e49926",
   "metadata": {},
   "source": [
    "2.5.1. Convert data types with casting"
   ]
  },
  {
   "cell_type": "code",
   "execution_count": 12,
   "id": "e5c60bef-3cac-41f8-b4f8-8b70c214d773",
   "metadata": {},
   "outputs": [
    {
     "name": "stdout",
     "output_type": "stream",
     "text": [
      "99\n",
      "('apple', 'banana', 'cherry')\n"
     ]
    }
   ],
   "source": [
    "intcon=int(99.5) # called construtors\n",
    "print(intcon)\n",
    "tuplecon=tuple(listcas)\n",
    "print(tuplecon)\n",
    "# works also with other data types"
   ]
  },
  {
   "cell_type": "markdown",
   "id": "300e0afa-9c25-43ce-86f4-cc4ed3c70584",
   "metadata": {},
   "source": [
    "2.6. Assign multiple values "
   ]
  },
  {
   "cell_type": "code",
   "execution_count": 13,
   "id": "a847bd5a-f94c-413f-8625-361cadc71bd7",
   "metadata": {},
   "outputs": [],
   "source": [
    "xa, ya, za = \"Moin\", \"Servus\", \"Hallo\"\n",
    "xb=yb=zb = \"Tach\""
   ]
  },
  {
   "cell_type": "markdown",
   "id": "9337e40e-8375-43d1-a0ac-946ab05316f4",
   "metadata": {},
   "source": [
    "2.6.1. Output multiple variables"
   ]
  },
  {
   "cell_type": "code",
   "execution_count": 14,
   "id": "6992eb86-e747-4678-804f-418a2f69c901",
   "metadata": {},
   "outputs": [
    {
     "name": "stdout",
     "output_type": "stream",
     "text": [
      "Moin Servus Hallo\n",
      "MoinServusHallo\n"
     ]
    }
   ],
   "source": [
    "print(xa, ya, za) # recommended\n",
    "print(xa + ya + za) # no space, see more at print function( )"
   ]
  },
  {
   "cell_type": "markdown",
   "id": "507832a2-d775-4f58-9ed7-1cf06c54c6dc",
   "metadata": {},
   "source": [
    "2.7. Multiple Assignement Trick"
   ]
  },
  {
   "cell_type": "code",
   "execution_count": 1,
   "id": "15059452-7b57-4b14-aa1b-ee402dfb9b47",
   "metadata": {},
   "outputs": [],
   "source": [
    "cat=[\"fat\", \"brown\", \"loud\"]\n",
    "size, color, characteristic=cat\n",
    "# works with Tuples the same"
   ]
  },
  {
   "cell_type": "markdown",
   "id": "cc448793-5565-4b47-af1f-efd09aa439c9",
   "metadata": {},
   "source": [
    "2.8. Scopes"
   ]
  },
  {
   "cell_type": "code",
   "execution_count": 2,
   "id": "bdc45ca1-ea29-4ebe-8ff2-45b8354591bf",
   "metadata": {},
   "outputs": [
    {
     "name": "stdout",
     "output_type": "stream",
     "text": [
      "sprint\n",
      "kp\n",
      "sprint\n",
      "Football\n"
     ]
    }
   ],
   "source": [
    "go=\"run\" # global scope\n",
    "if go == \"run\":\n",
    "    go=\"sprint\" # global scope\n",
    "    print(go)\n",
    "\n",
    "def sport():\n",
    "    go=\"kp\" # local scope\n",
    "    print(go)\n",
    "sport()\n",
    "print(go)\n",
    "\n",
    "def chill():\n",
    "    tv=\"Football\" # local scope\n",
    "    print(tv)\n",
    "chill()"
   ]
  },
  {
   "cell_type": "markdown",
   "id": "892124ad-77b4-4218-a9d4-d767e0e80f76",
   "metadata": {},
   "source": [
    "2.8.1. global statement"
   ]
  },
  {
   "cell_type": "code",
   "execution_count": 4,
   "id": "0aa16752-015e-4c3a-a1c3-60a6855be566",
   "metadata": {},
   "outputs": [
    {
     "name": "stdout",
     "output_type": "stream",
     "text": [
      "Bull\n",
      "Bull\n"
     ]
    }
   ],
   "source": [
    "def games():\n",
    "    global brawlstars # brawlstars is assigned as a gloabal variable\n",
    "    brawlstars=\"Bull\"\n",
    "    print(brawlstars)\n",
    "games()\n",
    "print(brawlstars)"
   ]
  },
  {
   "cell_type": "markdown",
   "id": "380cf9a6-cdd7-4b68-ab59-9f85e9a86e60",
   "metadata": {},
   "source": [
    "2.9. (Line Continuation Character)"
   ]
  },
  {
   "cell_type": "code",
   "execution_count": 5,
   "id": "48c7c8a0-59d6-4f93-8dee-d0cafd5064a9",
   "metadata": {},
   "outputs": [
    {
     "name": "stdout",
     "output_type": "stream",
     "text": [
      "550\n"
     ]
    }
   ],
   "source": [
    "result = 10 + 20 + \\\n",
    "         30 + 40 + \\\n",
    "         50 + 60 + \\\n",
    "         70 + 80 + \\\n",
    "         90 + 100\n",
    "print(result)"
   ]
  },
  {
   "cell_type": "markdown",
   "id": "79e14287-7b25-4de2-948c-63bf7d6aa6de",
   "metadata": {},
   "source": [
    "**3. Comments**"
   ]
  },
  {
   "cell_type": "code",
   "execution_count": 4,
   "id": "e21d0e0e-6a3e-40a4-83b0-569d5ac75955",
   "metadata": {},
   "outputs": [
    {
     "name": "stdout",
     "output_type": "stream",
     "text": [
      "hey\n",
      "i am Peter\n",
      "and i like tennis\n",
      "\n"
     ]
    }
   ],
   "source": [
    "# normal comment\n",
    "\n",
    "\"\"\"triple quotes, block commenting, called docstring\n",
    "ja moin \"\"\";  # the docstring doesn't normally get returned that's why I added a \";\"\n",
    "\n",
    "x=\"\"\"hey\n",
    "i am Peter\n",
    "and i like tennis\n",
    "\"\"\"    # multiline string, so the docstring is not a typical comment, \n",
    "       # because it behaves differently than a normal comment\n",
    "\n",
    "print(x)"
   ]
  },
  {
   "cell_type": "markdown",
   "id": "9d98dfbd-624e-4df6-b351-cd33a2bb2603",
   "metadata": {},
   "source": [
    "**4. Operators**"
   ]
  },
  {
   "cell_type": "markdown",
   "id": "0d6e697e-e34f-4d7e-a123-e375de406b12",
   "metadata": {},
   "source": [
    "4.1. Arithmetic operators"
   ]
  },
  {
   "cell_type": "code",
   "execution_count": 4,
   "id": "c42b0737-5a35-4dfd-bdc7-373934c91342",
   "metadata": {},
   "outputs": [
    {
     "name": "stdout",
     "output_type": "stream",
     "text": [
      "4096\n",
      "0\n",
      "2\n",
      "2.0\n",
      "32\n",
      "4\n",
      "12\n"
     ]
    }
   ],
   "source": [
    "#1 Exponent\n",
    "print(8**4)\n",
    "\n",
    "#2 Modulus\n",
    "z=8%4\n",
    "print(z)\n",
    "\n",
    "#3 Integer Division\n",
    "print(8//4)\n",
    "\n",
    "#4 Division\n",
    "print(8/4)\n",
    "\n",
    "#5 Multiplication\n",
    "print(8*4)\n",
    "\n",
    "#6 Subtraction\n",
    "print(8-4)\n",
    "\n",
    "#7 Addition\n",
    "print(8+4)"
   ]
  },
  {
   "cell_type": "markdown",
   "id": "d003b382-c974-43f1-9928-979bc4a9a439",
   "metadata": {},
   "source": [
    "4.2. Assignement operators"
   ]
  },
  {
   "cell_type": "code",
   "execution_count": 5,
   "id": "577429dd-8e3f-4d00-ab1f-9241f7baaddb",
   "metadata": {},
   "outputs": [
    {
     "name": "stdout",
     "output_type": "stream",
     "text": [
      "6\n",
      "12\n",
      "6\n",
      "36\n",
      "2176782336\n",
      "362797056.0\n",
      "60466176.0\n",
      "0.0\n"
     ]
    }
   ],
   "source": [
    "#1 = \n",
    "numb=6\n",
    "\n",
    "print(numb)\n",
    "\n",
    "#2 +=\n",
    "numb+=6\n",
    "# same as numb=numb+6\n",
    "\n",
    "print(numb)\n",
    "\n",
    "#3 -=\n",
    "numb-=6\n",
    "# same as numb=numb-6\n",
    "\n",
    "print(numb)\n",
    "\n",
    "#4 *=\n",
    "numb*=6\n",
    "# same as numb=numb*6\n",
    "\n",
    "print(numb)\n",
    "\n",
    "#5 **=\n",
    "numb**=6\n",
    "# same as numb=numb**6\n",
    "\n",
    "print(numb)\n",
    "\n",
    "#6 /=\n",
    "numb/=6\n",
    "# same as numb=numb/6\n",
    "\n",
    "print(numb)\n",
    "\n",
    "#7 //=\n",
    "numb//=6\n",
    "# same as numb=numb//6\n",
    "\n",
    "print(numb)\n",
    "\n",
    "#8 %=\n",
    "numb%=6\n",
    "# same as numb=numb%6\n",
    "\n",
    "print(numb)\n",
    "\n",
    "# 5 more -> Investigation"
   ]
  },
  {
   "cell_type": "markdown",
   "id": "acab2c18-6bf1-4f98-8440-f5e56ba8a823",
   "metadata": {},
   "source": [
    "4.3. Comparion operators"
   ]
  },
  {
   "cell_type": "code",
   "execution_count": 6,
   "id": "ca3f3744-160b-497d-a007-51d435eb0e20",
   "metadata": {},
   "outputs": [
    {
     "name": "stdout",
     "output_type": "stream",
     "text": [
      "False\n",
      "True\n",
      "False\n",
      "True\n",
      "True\n",
      "True\n",
      "True\n",
      "False\n",
      "True\n"
     ]
    }
   ],
   "source": [
    "#1 equal to\n",
    "print(6==7)\n",
    "\n",
    "#2 not equal to\n",
    "print(6!=7)\n",
    "\n",
    "#3 less than\n",
    "print(7<6)\n",
    "\n",
    "#4 greater than\n",
    "print(7>6)\n",
    "\n",
    "#5 less than or equal to\n",
    "print(7<=7)\n",
    "\n",
    "#6 greater than or equal to\n",
    "print(7>=6)\n",
    "\n",
    "\n",
    "# Special Cases\n",
    "print(1==True)\n",
    "print(0==True)\n",
    "print(0==False)"
   ]
  },
  {
   "cell_type": "markdown",
   "id": "27b43935-a1d4-47ac-a3ba-892b4eb87623",
   "metadata": {},
   "source": [
    "4.4. Logical operators"
   ]
  },
  {
   "cell_type": "code",
   "execution_count": 8,
   "id": "392d4ffc-c95a-4ed9-ac0b-1ce9a2b56322",
   "metadata": {},
   "outputs": [
    {
     "name": "stdout",
     "output_type": "stream",
     "text": [
      "False\n",
      "True\n",
      "True\n",
      "False\n",
      "False\n",
      "True\n"
     ]
    }
   ],
   "source": [
    "p=8\n",
    "#1 and\n",
    "print(p>8 and p < 10)\n",
    "print(p>7 and p < 10)\n",
    "\n",
    "#2 or\n",
    "print(p>8 or p < 10)\n",
    "print(p>9 or p < 0)\n",
    "\n",
    "#3 not\n",
    "print(not(p>7 and p < 10))\n",
    "print(not(p>9 and p < 10))"
   ]
  },
  {
   "cell_type": "markdown",
   "id": "5f63b7ed-9e24-4e52-a476-9e01c28d648a",
   "metadata": {},
   "source": [
    "4.5. Identity operators"
   ]
  },
  {
   "cell_type": "code",
   "execution_count": 9,
   "id": "22bb91bb-74eb-41ce-b4ba-efaea81e83ea",
   "metadata": {},
   "outputs": [
    {
     "name": "stdout",
     "output_type": "stream",
     "text": [
      "False\n",
      "True\n"
     ]
    }
   ],
   "source": [
    "i=6\n",
    "o=7\n",
    "print(i is o)\n",
    "print(i is not o)"
   ]
  },
  {
   "cell_type": "markdown",
   "id": "3767764f-411e-4c75-b395-27acdd2d42cc",
   "metadata": {},
   "source": [
    "4.6. Membership operators"
   ]
  },
  {
   "cell_type": "code",
   "execution_count": 10,
   "id": "16deedfe-4ed4-4599-be39-f107baaf3af2",
   "metadata": {},
   "outputs": [
    {
     "name": "stdout",
     "output_type": "stream",
     "text": [
      "True\n",
      "True\n"
     ]
    }
   ],
   "source": [
    "jo=\"Moin, Servus, Hallo\"\n",
    "print(\"Moin\" in jo)\n",
    "print(\"Guten Tag\" not in jo)\n",
    "\n",
    "# Bitwise operators left"
   ]
  },
  {
   "cell_type": "markdown",
   "id": "bfbca1e0-1825-4dba-a3d0-142886d45253",
   "metadata": {},
   "source": [
    "**5. Integer Data Type**"
   ]
  },
  {
   "cell_type": "code",
   "execution_count": 11,
   "id": "06325ef4-ade0-44b3-99da-3554cfd3fe9d",
   "metadata": {},
   "outputs": [],
   "source": [
    "h=5\n",
    "l=-888"
   ]
  },
  {
   "cell_type": "markdown",
   "id": "33f1f35c-8037-4627-b378-f2d98646ad63",
   "metadata": {},
   "source": [
    "5.1. Convert to complex or float"
   ]
  },
  {
   "cell_type": "code",
   "execution_count": 12,
   "id": "9b4fec4f-b451-428e-a961-248886d7bcb6",
   "metadata": {},
   "outputs": [
    {
     "name": "stdout",
     "output_type": "stream",
     "text": [
      "8.0\n",
      "(-777+0j)\n"
     ]
    }
   ],
   "source": [
    "g=float(8)\n",
    "print(g)\n",
    "\n",
    "z=complex(-777)\n",
    "print(z)"
   ]
  },
  {
   "cell_type": "markdown",
   "id": "7426d4f7-869d-4ae0-a730-6636cb047f11",
   "metadata": {},
   "source": [
    "**6. Floating-point numbers**"
   ]
  },
  {
   "cell_type": "code",
   "execution_count": 13,
   "id": "46d89197-f814-4fc4-baed-f1c0aa37902c",
   "metadata": {},
   "outputs": [],
   "source": [
    "r=-888.999\n",
    "u=33.636\n",
    "\n",
    "t=1/3 # fractions\n",
    "v=35e3 # e indicates power of 10\n",
    "# same as o=35*10**3"
   ]
  },
  {
   "cell_type": "markdown",
   "id": "14fe72c0-3d3d-4432-8530-b52588d23303",
   "metadata": {},
   "source": [
    "6.1. Convert to integer or complex"
   ]
  },
  {
   "cell_type": "code",
   "execution_count": 14,
   "id": "a60a81c3-564e-47ee-94b8-a802aa55c76b",
   "metadata": {},
   "outputs": [
    {
     "name": "stdout",
     "output_type": "stream",
     "text": [
      "382\n",
      "(382.74+0j)\n"
     ]
    }
   ],
   "source": [
    "kk=int(382.74)\n",
    "print(kk)\n",
    "\n",
    "ak=complex(382.74)\n",
    "print(ak)"
   ]
  },
  {
   "cell_type": "markdown",
   "id": "d04fc0de-7999-4b5b-bfd1-71cdf4bac11b",
   "metadata": {},
   "source": [
    "**7. Complex**"
   ]
  },
  {
   "cell_type": "code",
   "execution_count": 15,
   "id": "40605785-99fd-4829-b2c7-4527fd9a4865",
   "metadata": {},
   "outputs": [],
   "source": [
    "f=4+6j\n",
    "g=99j\n",
    "h=-32j\n",
    "# conversion to int or float doesn't work"
   ]
  },
  {
   "cell_type": "markdown",
   "id": "2bec1e30-a3ad-4ab7-bea8-5d35d4ce8455",
   "metadata": {},
   "source": [
    "**8. String Data Type (Text, Sequence)**"
   ]
  },
  {
   "cell_type": "markdown",
   "id": "f22e36c3-a9d2-4c65-a47f-87ae7f4b3b8a",
   "metadata": {},
   "source": [
    "8.1. Multiline Strings"
   ]
  },
  {
   "cell_type": "code",
   "execution_count": 16,
   "id": "466f5711-6a7c-4d5e-8f67-40d4ad4acf6b",
   "metadata": {},
   "outputs": [
    {
     "name": "stdout",
     "output_type": "stream",
     "text": [
      "moin\n",
      "wie\n",
      "geths \n",
      "dir\n",
      "\n"
     ]
    }
   ],
   "source": [
    "cc=\"\"\"moin\n",
    "wie\n",
    "geths \n",
    "dir\n",
    "\"\"\"\n",
    "print(cc)"
   ]
  },
  {
   "cell_type": "markdown",
   "id": "a3385574-b227-4e0f-8644-fa9c45e747eb",
   "metadata": {},
   "source": [
    "8.2. Blank String"
   ]
  },
  {
   "cell_type": "code",
   "execution_count": 17,
   "id": "9f8bd145-cea2-4f35-b779-56425bc1eb85",
   "metadata": {},
   "outputs": [
    {
     "name": "stdout",
     "output_type": "stream",
     "text": [
      "\n"
     ]
    }
   ],
   "source": [
    "ll=\"\"\n",
    "print(ll)"
   ]
  },
  {
   "cell_type": "markdown",
   "id": "2b0c28f0-c8fa-4fe0-804b-ac74930c15e5",
   "metadata": {},
   "source": [
    "8.3. String concentation and replication"
   ]
  },
  {
   "cell_type": "code",
   "execution_count": 18,
   "id": "f6fb66c3-8871-41b7-9f97-f45f3fc2b396",
   "metadata": {},
   "outputs": [
    {
     "name": "stdout",
     "output_type": "stream",
     "text": [
      "Alice Bob\n",
      "Hello World\n",
      "Hello World\n",
      "Jo Jo Jo Jo Jo Jo Jo \n"
     ]
    }
   ],
   "source": [
    "#1 Concentation\n",
    "print('Alice ' + 'Bob')\n",
    "\n",
    "a = \"Hello \"\n",
    "b = \"World\"\n",
    "c = a + b\n",
    "print(c)\n",
    "\n",
    "a += \"World\"\n",
    "print(a)\n",
    "\n",
    "#2 Replication\n",
    "print(\"Jo \" * 7)"
   ]
  },
  {
   "cell_type": "markdown",
   "id": "d3a6c8e3-0b25-4379-a823-141f140c2971",
   "metadata": {},
   "source": [
    "8.4. Escape characters"
   ]
  },
  {
   "cell_type": "code",
   "execution_count": 19,
   "id": "d55e73cf-7a21-42f9-93e5-c35c13c48d36",
   "metadata": {},
   "outputs": [
    {
     "name": "stdout",
     "output_type": "stream",
     "text": [
      "This is an example of a single quote: '\n",
      "This is an example of a double quote: \"\n",
      "This is an example of a backslash: \\\n",
      "This is an example of a new line:\n",
      "Second line\n",
      "This is an example of a tab:\tSecond column\n"
     ]
    }
   ],
   "source": [
    "# 1 Single Quote\n",
    "print('This is an example of a single quote: \\'')\n",
    "\n",
    "# 2 Double Quote\n",
    "print(\"This is an example of a double quote: \\\"\")\n",
    "\n",
    "# 3 Backslash\n",
    "print(\"This is an example of a backslash: \\\\\")\n",
    "\n",
    "# 4 New Line\n",
    "print(\"This is an example of a new line:\\nSecond line\")\n",
    "\n",
    "# 5 Tab\n",
    "print(\"This is an example of a tab:\\tSecond column\")\n"
   ]
  },
  {
   "cell_type": "markdown",
   "id": "a1ab56a9-4189-4cfb-aea6-daa2bb7025b2",
   "metadata": {},
   "source": [
    "8.5. Raw string"
   ]
  },
  {
   "cell_type": "code",
   "execution_count": 20,
   "id": "714bd2d1-8ab4-4da5-a8a3-31c4e2c10dc9",
   "metadata": {},
   "outputs": [
    {
     "name": "stdout",
     "output_type": "stream",
     "text": [
      "That is Carol\\'s cat.\n"
     ]
    }
   ],
   "source": [
    "print(r'That is Carol\\'s cat.')"
   ]
  },
  {
   "cell_type": "markdown",
   "id": "243ace67-b4a8-437a-9624-cccd526a0af2",
   "metadata": {},
   "source": [
    "8.7. Indexing and Slicing"
   ]
  },
  {
   "cell_type": "code",
   "execution_count": 21,
   "id": "e61a1ed8-9636-476b-8a43-b47b21aecff3",
   "metadata": {},
   "outputs": [
    {
     "name": "stdout",
     "output_type": "stream",
     "text": [
      "e\n",
      "lo, Wo\n",
      "Hello, W\n",
      "lo, World!\n",
      "orl\n",
      "!dlroW ,olleH\n"
     ]
    }
   ],
   "source": [
    "ap=\"Hello, World!\"\n",
    "\n",
    "#1 Indexing\n",
    "print(ap[1])\n",
    "\n",
    "#2 Slice\n",
    "print(ap[3:9])\n",
    "\n",
    "#3 Slice from the start\n",
    "print(ap[:8])\n",
    "\n",
    "#4 Slice from the end\n",
    "print(ap[3:])\n",
    "\n",
    "#5 Negative Indexing\n",
    "print(ap[-5:-2])\n",
    "\n",
    "#6 Reverse String\n",
    "print(ap[::-1])"
   ]
  },
  {
   "cell_type": "markdown",
   "id": "b51db20a-28f5-42df-a3f9-e352a1be7614",
   "metadata": {},
   "source": [
    "8.8. Looping through a string"
   ]
  },
  {
   "cell_type": "code",
   "execution_count": 22,
   "id": "8d2c32c0-a393-4fa3-b424-dd04335e31c8",
   "metadata": {},
   "outputs": [
    {
     "name": "stdout",
     "output_type": "stream",
     "text": [
      "H\n",
      "e\n",
      "l\n",
      "l\n",
      "o\n",
      ",\n",
      " \n",
      "W\n",
      "o\n",
      "r\n",
      "l\n",
      "d\n",
      "!\n"
     ]
    }
   ],
   "source": [
    "for x in ap:\n",
    "    print(x)"
   ]
  },
  {
   "cell_type": "markdown",
   "id": "8af02a09-0042-4af9-bd07-7e6d544352b8",
   "metadata": {},
   "source": [
    "8.9. Methods"
   ]
  },
  {
   "cell_type": "markdown",
   "id": "2737b62a-62a6-4806-92aa-7eaa4048978c",
   "metadata": {},
   "source": [
    "8.9.1. Case Transformation"
   ]
  },
  {
   "cell_type": "code",
   "execution_count": 23,
   "id": "e782562b-e5f9-4002-9293-b0f533c8bd92",
   "metadata": {},
   "outputs": [
    {
     "name": "stdout",
     "output_type": "stream",
     "text": [
      "Moin wie geht es kai?\n",
      "moin wie geht es kai?\n",
      "moin wie geht es kai?\n",
      "MOIN WIE GEHT ES KAI?\n",
      "mOIN WIE GEHT ES kAI?\n",
      "Moin Wie Geht Es Kai?\n"
     ]
    }
   ],
   "source": [
    "w=\"Moin wie geht es Kai?\"\n",
    "\n",
    "#1\n",
    "print(w.capitalize())\n",
    "\n",
    "#2\n",
    "print(w.casefold())\n",
    "\n",
    "#3 \n",
    "print(w.lower())\n",
    "\n",
    "#4\n",
    "print(w.upper())\n",
    "\n",
    "#5\n",
    "print(w.swapcase())\n",
    "\n",
    "#6\n",
    "print(w.title())"
   ]
  },
  {
   "cell_type": "markdown",
   "id": "0f44698f-050d-46e0-b50e-968ffd9e0481",
   "metadata": {},
   "source": [
    "8.9.2. Content Modification"
   ]
  },
  {
   "cell_type": "code",
   "execution_count": 39,
   "id": "76c491cd-41bd-4189-a1e4-275aaa25ba78",
   "metadata": {},
   "outputs": [
    {
     "name": "stdout",
     "output_type": "stream",
     "text": [
      "       hallo        \n",
      "IIIIIIIhalloIIIIIIII\n",
      "Hey        ich       bin       Mark     \n",
      "halloIIIIIIIIIIIIIII\n",
      "hallo                moinsen\n",
      "0000000000hallo\n",
      "banana\n",
      "banana\n"
     ]
    }
   ],
   "source": [
    "jj=\"hallo\"\n",
    "k=\"Hey\\t ich\\t bin\\t Mark\\t\"\n",
    "\n",
    "#1\n",
    "print(jj.center(20))\n",
    "print(jj.center(20, \"I\"))\n",
    "\n",
    "#2\n",
    "print(k.expandtabs(10))\n",
    "\n",
    "#3  rjust works the same\n",
    "print(jj.ljust(20, \"I\"))\n",
    "print(jj.ljust(20), \"moinsen\")\n",
    "\n",
    "#4 \n",
    "print(jj.zfill(15))\n",
    "\n",
    "#5 lstrip and rstrip work the same\n",
    "txt = \"     banana     \"\n",
    "print(txt.strip())\n",
    "\n",
    "txt = \",,,,,rrttgg.....banana....rrr\"\n",
    "print(txt.strip(\",.grt\"))\n",
    "\n",
    "#6 \n",
    "txt = \"one one was a race horse, two two was one too.\"\n",
    "x = txt.replace(\"one\", \"three\") # third parameter could specify how many occurences to replace"
   ]
  },
  {
   "cell_type": "markdown",
   "id": "e7a64b18-75e8-4fc4-a9ff-21ae1815d139",
   "metadata": {},
   "source": [
    "8.9.3. Formatting and Joining"
   ]
  },
  {
   "cell_type": "code",
   "execution_count": 45,
   "id": "0e8861f4-cf3f-46cc-a19a-5a8c703d8314",
   "metadata": {},
   "outputs": [
    {
     "name": "stdout",
     "output_type": "stream",
     "text": [
      "My name is John, I'm 36\n",
      "nameTESTcountry\n"
     ]
    }
   ],
   "source": [
    "#1 \n",
    "txt1 = \"My name is {fname}, I'm {age}\".format(fname = \"John\", age = 36)\n",
    "txt2 = \"My name is {0}, I'm {1}\".format(\"John\",36)\n",
    "txt3 = \"My name is {}, I'm {}\".format(\"John\",36)\n",
    "print(txt1)\n",
    "\n",
    "#2 works with iterables\n",
    "myDict = {\"name\": \"John\", \"country\": \"Norway\"}\n",
    "mySeparator = \"TEST\"\n",
    "print(mySeparator.join(myDict)) "
   ]
  },
  {
   "cell_type": "markdown",
   "id": "0c60771f-cd9b-4d7f-9630-3d77560361dd",
   "metadata": {},
   "source": [
    "8.9.4. Splitting"
   ]
  },
  {
   "cell_type": "code",
   "execution_count": 46,
   "id": "dd557952-bdda-4226-9ca2-af349eefa237",
   "metadata": {},
   "outputs": [
    {
     "name": "stdout",
     "output_type": "stream",
     "text": [
      "('I could eat ', 'bananas', ' all day')\n",
      "('I could eat bananas all day, ', 'bananas', ' are my favorite fruit')\n",
      "['welcome', 'to', 'the', 'jungle']\n",
      "['hello', 'my name is Peter', 'I am 26 years old']\n",
      "['apple', 'banana#cherry#orange']\n",
      "['Thank you for the music', 'Welcome to the jungle']\n",
      "['Thank you for the music\\n', 'Welcome to the jungle']\n",
      "['apple, banana', 'cherry']\n"
     ]
    }
   ],
   "source": [
    "#1\n",
    "txt = \"I could eat bananas all day\"\n",
    "print(txt.partition(\"bananas\"))\n",
    "\n",
    "#2 \n",
    "txt = \"I could eat bananas all day, bananas are my favorite fruit\"\n",
    "print(txt.rpartition(\"bananas\"))\n",
    "\n",
    "#3\n",
    "txt = \"welcome to the jungle\"\n",
    "print(txt.split())\n",
    "\n",
    "txt = \"hello, my name is Peter, I am 26 years old\"\n",
    "print(txt.split(\", \"))\n",
    "\n",
    "txt = \"apple#banana#cherry#orange\"\n",
    "print(txt.split(\"#\", 1)) # maxsplit\n",
    "\n",
    "#4 splits at line breaks\n",
    "txt = \"Thank you for the music\\nWelcome to the jungle\"\n",
    "print(txt.splitlines())\n",
    "\n",
    "txt = \"Thank you for the music\\nWelcome to the jungle\"\n",
    "print(txt.splitlines(True))\n",
    "\n",
    "#5\n",
    "txt = \"apple, banana, cherry\"\n",
    "x = txt.rsplit(\", \") # same as split\n",
    "\n",
    "txt = \"apple, banana, cherry\"\n",
    "print(txt.rsplit(\", \", 1))"
   ]
  },
  {
   "cell_type": "markdown",
   "id": "a410c7d7-eac6-4a99-aae0-1bff9b4b4f74",
   "metadata": {},
   "source": [
    "8.9.5. Information and Validation"
   ]
  },
  {
   "cell_type": "code",
   "execution_count": null,
   "id": "dca3e6bc-7d81-41b3-bda1-4b3df0d04dea",
   "metadata": {},
   "outputs": [],
   "source": [
    "#1\n",
    "txt = \"I love apples, apple are my favorite fruit\"\n",
    "print(txt.count(\"apple\", 10, 24))\n",
    "\n",
    "#2 endswith works the same\n",
    "txt = \"Hello, welcome to my world.\"\n",
    "print(txt.startswith(\"wel\", 7, 20))"
   ]
  },
  {
   "cell_type": "markdown",
   "id": "50a372fc-5acb-497b-a214-0476bc1c737c",
   "metadata": {},
   "source": [
    "**9. List Data Type (Sequence, Dynamic Array)**"
   ]
  },
  {
   "cell_type": "markdown",
   "id": "6b7ca34b-a3c3-423d-a45a-7b61b487b083",
   "metadata": {},
   "source": [
    "9.1. Empty List"
   ]
  },
  {
   "cell_type": "code",
   "execution_count": 38,
   "id": "6c484c0f-e94e-4c10-846e-e33b6dc87eff",
   "metadata": {},
   "outputs": [],
   "source": [
    "nn=[]"
   ]
  },
  {
   "cell_type": "markdown",
   "id": "5cfb1e0c-fa45-420e-89ae-06f0bf25b4e8",
   "metadata": {},
   "source": [
    "9.2. Indexing and Slicing"
   ]
  },
  {
   "cell_type": "code",
   "execution_count": 39,
   "id": "82aa3dae-2fdd-44f1-b68a-8228c099476c",
   "metadata": {},
   "outputs": [
    {
     "name": "stdout",
     "output_type": "stream",
     "text": [
      "2\n",
      "[4, 5, 6, 7, 8, 9]\n",
      "[1, 2, 3, 4, 5, 6, 7, 8]\n",
      "[4, 5, 6, 7, 8, 9]\n",
      "[5, 6, 7]\n",
      "[9, 8, 7, 6, 5, 4, 3, 2, 1]\n",
      "[1, 9, 3, 4, 5, 6, 7, 8, 9]\n"
     ]
    }
   ],
   "source": [
    "ap = [1, 2, 3, 4, 5, 6, 7, 8, 9]\n",
    "\n",
    "# 1 Indexing\n",
    "print(ap[1]) \n",
    "\n",
    "# 2 Slice\n",
    "print(ap[3:9])\n",
    "\n",
    "# 3 Slice from the start\n",
    "print(ap[:8]) \n",
    "\n",
    "# 4 Slice from the end\n",
    "print(ap[3:])  \n",
    "\n",
    "# 5 Negative Indexing\n",
    "print(ap[-5:-2])  \n",
    "\n",
    "# 6 Reversing a list\n",
    "reversed_ap = ap[::-1]\n",
    "print(reversed_ap) \n",
    "\n",
    "#7 Change values\n",
    "ap[1] = 9\n",
    "print(ap)"
   ]
  },
  {
   "cell_type": "markdown",
   "id": "2f5072a3-006a-4738-9dcc-3937a21d7730",
   "metadata": {},
   "source": [
    "9.3. List concentation and replication"
   ]
  },
  {
   "cell_type": "code",
   "execution_count": 40,
   "id": "8489d799-4dc7-4ca9-8497-a87f07dd5108",
   "metadata": {},
   "outputs": [
    {
     "name": "stdout",
     "output_type": "stream",
     "text": [
      "[1, 2, 3, 4, 5, 6]\n",
      "[1, 2, 3, 4, 5, 6]\n",
      "[0, 1, 2, 0, 1, 2, 0, 1, 2]\n"
     ]
    }
   ],
   "source": [
    "# Concatenation\n",
    "list1 = [1, 2, 3]\n",
    "list2 = [4, 5, 6]\n",
    "\n",
    "concatenated_list = list1 + list2\n",
    "print(concatenated_list) \n",
    "\n",
    "# Alternatively, using the extend method:\n",
    "list1.extend(list2)\n",
    "print(list1)  \n",
    "\n",
    "# Replication\n",
    "original_list = [0, 1, 2]\n",
    "replicated_list = original_list * 3\n",
    "print(replicated_list)  "
   ]
  },
  {
   "cell_type": "markdown",
   "id": "0051378d-0945-43d4-80eb-0849973308db",
   "metadata": {},
   "source": [
    "9.4. List Comprehensions"
   ]
  },
  {
   "cell_type": "code",
   "execution_count": 41,
   "id": "5e15ca1c-6541-4b2b-8534-439d4a0ce717",
   "metadata": {},
   "outputs": [
    {
     "name": "stdout",
     "output_type": "stream",
     "text": [
      "[1, 4, 9, 16, 25]\n",
      "[2, 4, 6, 8, 10]\n",
      "[('a', 1), ('b', 2), ('c', 3)]\n",
      "[1, 2, 3, 4, 5, 6, 7, 8]\n",
      "['A', 'B', 'C']\n"
     ]
    }
   ],
   "source": [
    "# 1. Creating a list of squares of numbers from 1 to 5:\n",
    "squares = [x**2 for x in range(1, 6)]\n",
    "print(squares)  \n",
    "\n",
    "# 2. Filtering even numbers from a given list:\n",
    "numbers = [1, 2, 3, 4, 5, 6, 7, 8, 9, 10]\n",
    "even_numbers = [x for x in numbers if x % 2 == 0]\n",
    "print(even_numbers) \n",
    "\n",
    "# 3. Creating a list of tuples using zip:\n",
    "list1 = ['a', 'b', 'c']\n",
    "list2 = [1, 2, 3]\n",
    "combined_list = [(x, y) for x, y in zip(list1, list2)]\n",
    "print(combined_list) \n",
    "\n",
    "# 4. Flattening a list of lists:\n",
    "nested_list = [[1, 2, 3], [4, 5], [6, 7, 8]]\n",
    "flattened_list = [item for sublist in nested_list for item in sublist]\n",
    "print(flattened_list)  \n",
    "\n",
    "# 5. Creating a list of uppercase letters:\n",
    "letters = ['a', 'b', 'c']\n",
    "uppercase_letters = [letter.upper() for letter in letters]\n",
    "print(uppercase_letters)  "
   ]
  },
  {
   "cell_type": "markdown",
   "id": "844e6f3f-badf-47dc-8f16-02786ce5971c",
   "metadata": {},
   "source": [
    "9.5. Nested Lists"
   ]
  },
  {
   "cell_type": "code",
   "execution_count": 42,
   "id": "84bc126a-1369-42df-a03d-7b11c50d4a6b",
   "metadata": {},
   "outputs": [
    {
     "name": "stdout",
     "output_type": "stream",
     "text": [
      "[1, 2, 3]\n",
      "6\n"
     ]
    }
   ],
   "source": [
    "# Nested list example\n",
    "nested_list = [[1, 2, 3], [4, 5, 6], [7, 8, 9]]\n",
    "\n",
    "# Accessing elements\n",
    "print(nested_list[0])    # Output: [1, 2, 3]\n",
    "print(nested_list[1][2]) # Output: 6"
   ]
  },
  {
   "cell_type": "markdown",
   "id": "35b7e346-c8d7-43f4-a627-a48b791db56b",
   "metadata": {},
   "source": [
    "9.6. List Constructor ????"
   ]
  },
  {
   "cell_type": "code",
   "execution_count": 43,
   "id": "cb388d5d-9d06-4b33-bcce-d8a249613485",
   "metadata": {},
   "outputs": [
    {
     "name": "stdout",
     "output_type": "stream",
     "text": [
      "[0, 1, 2, 3, 4]\n",
      "['H', 'e', 'l', 'l', 'o']\n"
     ]
    }
   ],
   "source": [
    "# List constructor example\n",
    "numbers = list(range(5))\n",
    "print(numbers)  \n",
    "\n",
    "# Another example\n",
    "words = list(\"Hello\")\n",
    "print(words)  "
   ]
  },
  {
   "cell_type": "markdown",
   "id": "86efbd80-5ed3-44bd-91e8-9c9cc2626d73",
   "metadata": {},
   "source": [
    "9.5. Methods"
   ]
  },
  {
   "cell_type": "code",
   "execution_count": 5,
   "id": "ba304135-24bd-4c4d-80c6-6ed71402ce21",
   "metadata": {},
   "outputs": [
    {
     "name": "stdout",
     "output_type": "stream",
     "text": [
      "['apple', 'banana', 'cherry', 'orange']\n",
      "['apple', 'banana', 'cherry', ['Ford', 'BMW', 'Volvo']]\n",
      "[]\n",
      "['apple', 'banana', 'cherry', 'orange']\n",
      "1\n",
      "['apple', 'banana', 'cherry', 'Ford', 'BMW', 'Volvo']\n",
      "2\n",
      "['apple', 'orange', 'banana', 'cherry']\n",
      "banana\n",
      "['apple', 'cherry']\n",
      "['cherry', 'banana', 'apple']\n",
      "['apple', 'banana', 'cherry']\n",
      "[2, 4, 6, 8]\n",
      "['cherry', 'banana', 'apple']\n",
      "['apple', 'cherry', 'banana']\n"
     ]
    }
   ],
   "source": [
    "#1\n",
    "fruits = ['apple', 'banana', 'cherry']\n",
    "x=fruits.append(\"orange\")\n",
    "print(fruits)\n",
    "\n",
    "a = [\"apple\", \"banana\", \"cherry\"]\n",
    "b = [\"Ford\", \"BMW\", \"Volvo\"]\n",
    "a.append(b)\n",
    "print(a)\n",
    "\n",
    "#2\n",
    "fruit = ['apple', 'banana', 'cherry', 'orange']\n",
    "fruit.clear()\n",
    "print(fruit)\n",
    "\n",
    "#3\n",
    "fruit1 = ['apple','banana','cherry','orange']\n",
    "print(fruit1.copy())\n",
    "\n",
    "#4\n",
    "fruits = ['apple', 'banana', 'cherry']\n",
    "print(fruits.count(\"cherry\"))\n",
    "\n",
    "#5\n",
    "fruits = ['apple', 'banana', 'cherry']\n",
    "\n",
    "cars = ['Ford', 'BMW', 'Volvo']\n",
    "fruits.extend(cars)\n",
    "print(fruits)\n",
    "\n",
    "#6\n",
    "fruits = ['apple', 'banana', 'cherry']\n",
    "print(fruits.index(\"cherry\"))\n",
    "\n",
    "#7\n",
    "fruits = ['apple', 'banana', 'cherry']\n",
    "fruits.insert(1, \"orange\")\n",
    "print(fruits)\n",
    "\n",
    "#8\n",
    "fruits = ['apple', 'banana', 'cherry']\n",
    "print(fruits.pop(1)) # default is -1\n",
    "\n",
    "#9\n",
    "fruits = ['apple', 'banana', 'cherry']\n",
    "fruits.remove(\"banana\")\n",
    "print(fruits) \n",
    "\n",
    "#10\n",
    "fruits = ['apple', 'banana', 'cherry']\n",
    "fruits.reverse()\n",
    "print(fruits)\n",
    "\n",
    "#11 later sort\n",
    "fruits = ['apple', 'banana', 'cherry']\n",
    "num=[2, 6, 8, 4]\n",
    "fruits.sort()\n",
    "num.sort()\n",
    "print(fruits)\n",
    "print(num)\n",
    "fruits.sort(reverse=True)\n",
    "print(fruits)\n",
    "fruits.sort(key=len)\n",
    "print(fruits)"
   ]
  },
  {
   "cell_type": "markdown",
   "id": "e58f87a1-87d3-4494-a166-f7a629afe417",
   "metadata": {},
   "source": [
    "**10. Tuple Data Type (Sequence)**"
   ]
  },
  {
   "cell_type": "markdown",
   "id": "a6c552fd-b177-442f-822d-5507d0fcddcf",
   "metadata": {},
   "source": [
    "10.1. Indexing and Slicing"
   ]
  },
  {
   "cell_type": "code",
   "execution_count": 64,
   "id": "c0f62010-401f-4b02-b6b8-82354fc8fd0b",
   "metadata": {},
   "outputs": [
    {
     "name": "stdout",
     "output_type": "stream",
     "text": [
      "2\n",
      "(4, 5, 6, 7, 8, 9)\n",
      "(1, 2, 3, 4, 5, 6, 7, 8)\n",
      "(4, 5, 6, 7, 8, 9)\n",
      "(5, 6, 7)\n",
      "(9, 8, 7, 6, 5, 4, 3, 2, 1)\n"
     ]
    }
   ],
   "source": [
    "tt = (1, 2, 3, 4, 5, 6, 7, 8, 9)\n",
    "\n",
    "# 1 Indexing\n",
    "print(tt[1]) \n",
    "\n",
    "# 2 Slice\n",
    "print(tt[3:9])  \n",
    "\n",
    "# 3 Slice from the start\n",
    "print(tt[:8])  \n",
    "\n",
    "# 4 Slice from the end\n",
    "print(tt[3:]) \n",
    "\n",
    "# 5 Negative Indexing\n",
    "print(tt[-5:-2])  \n",
    "\n",
    "# 6 Reversing a tuple\n",
    "reversed_tt = tt[::-1]\n",
    "print(reversed_tt) "
   ]
  },
  {
   "cell_type": "markdown",
   "id": "8c78fc7d-c6c9-4be6-995e-0c4185b4284b",
   "metadata": {},
   "source": [
    "10.2. One Word Tuple"
   ]
  },
  {
   "cell_type": "code",
   "execution_count": 65,
   "id": "a1efc505-f2cc-4723-855c-02e9f387f322",
   "metadata": {},
   "outputs": [],
   "source": [
    "word_tuple = ('Hello',)"
   ]
  },
  {
   "cell_type": "markdown",
   "id": "86344042-3d92-4d50-9154-7d6c4e8e0ede",
   "metadata": {},
   "source": [
    "10.3. Tuple Constructor"
   ]
  },
  {
   "cell_type": "code",
   "execution_count": 66,
   "id": "c2e572c1-3fbf-40f4-9965-c357938702e4",
   "metadata": {},
   "outputs": [
    {
     "name": "stdout",
     "output_type": "stream",
     "text": [
      "(0, 1, 2, 3, 4)\n",
      "('H', 'e', 'l', 'l', 'o')\n"
     ]
    }
   ],
   "source": [
    "numbers = tuple(range(5))\n",
    "print(numbers)  \n",
    "\n",
    "# Another example\n",
    "words = tuple(\"Hello\")\n",
    "print(words) "
   ]
  },
  {
   "cell_type": "markdown",
   "id": "53060326-b8a0-4a0c-91c7-cc88ddc48e7b",
   "metadata": {},
   "source": [
    "10.4. Methods"
   ]
  },
  {
   "cell_type": "code",
   "execution_count": 68,
   "id": "594780ac-3ffc-4ceb-87f4-18bb865c45a0",
   "metadata": {},
   "outputs": [
    {
     "name": "stdout",
     "output_type": "stream",
     "text": [
      "2\n",
      "3\n"
     ]
    }
   ],
   "source": [
    "# Use methods by converting to list\n",
    "\n",
    "#1\n",
    "thistuple = (1, 3, 7, 8, 7, 5, 4, 6, 8, 5)\n",
    "print(thistuple.count(5))\n",
    "\n",
    "#2\n",
    "thistuple = (1, 3, 7, 8, 7, 5, 4, 6, 8, 5)\n",
    "print(thistuple.index(8))"
   ]
  },
  {
   "cell_type": "markdown",
   "id": "6b3206e2-831d-4258-ab76-bb8f7dad9ccd",
   "metadata": {},
   "source": [
    "**11. Dictionary**"
   ]
  },
  {
   "cell_type": "markdown",
   "id": "48df324a-bd9e-4826-8039-69a5863dd742",
   "metadata": {},
   "source": [
    "11.1. Empty Dictionary"
   ]
  },
  {
   "cell_type": "code",
   "execution_count": 47,
   "id": "bc06837c-e121-4f37-b84a-f732d54df304",
   "metadata": {},
   "outputs": [],
   "source": [
    "kk= {}"
   ]
  },
  {
   "cell_type": "markdown",
   "id": "7821c4ed-9bee-4511-91c5-bfc2c051fb6c",
   "metadata": {},
   "source": [
    "11.2. Change value of an item"
   ]
  },
  {
   "cell_type": "code",
   "execution_count": 48,
   "id": "3061f38b-f33d-4f7d-972a-bc9d9f05ff95",
   "metadata": {},
   "outputs": [],
   "source": [
    "thisdict = {\n",
    "  \"brand\": \"Ford\",\n",
    "  \"model\": \"Mustang\",\n",
    "  \"year\": 1964\n",
    "}\n",
    "thisdict[\"year\"] = 2018"
   ]
  },
  {
   "cell_type": "markdown",
   "id": "63a16f68-6bfd-427a-b16a-2958d7de5967",
   "metadata": {},
   "source": [
    "11.3. Add item"
   ]
  },
  {
   "cell_type": "code",
   "execution_count": 49,
   "id": "704eb4b6-772e-43ce-b8ee-bf7374c01e9f",
   "metadata": {},
   "outputs": [
    {
     "name": "stdout",
     "output_type": "stream",
     "text": [
      "{'brand': 'Ford', 'model': 'Mustang', 'year': 1964, 'color': 'red'}\n"
     ]
    }
   ],
   "source": [
    "thisdict = {\n",
    "  \"brand\": \"Ford\",\n",
    "  \"model\": \"Mustang\",\n",
    "  \"year\": 1964\n",
    "}\n",
    "thisdict[\"color\"] = \"red\"\n",
    "print(thisdict)"
   ]
  },
  {
   "cell_type": "markdown",
   "id": "e6cb5576-77cb-49c5-bdd3-92cc0b95fc2d",
   "metadata": {},
   "source": [
    "11.4. Dictionary Constructor"
   ]
  },
  {
   "cell_type": "code",
   "execution_count": 50,
   "id": "aa3f6ad3-8cd0-419d-abb8-90297508c474",
   "metadata": {},
   "outputs": [
    {
     "name": "stdout",
     "output_type": "stream",
     "text": [
      "{'name': 'John', 'age': 25, 'grade': 'A'}\n",
      "{'a': 1, 'b': 2, 'c': 3}\n"
     ]
    }
   ],
   "source": [
    "# 1\n",
    "student_info = dict(name='John', age=25, grade='A')\n",
    "print(student_info)  \n",
    "\n",
    "# 2\n",
    "pairs = [('a', 1), ('b', 2), ('c', 3)]\n",
    "dictionary_from_list = dict(pairs)\n",
    "print(dictionary_from_list) "
   ]
  },
  {
   "cell_type": "markdown",
   "id": "f346ad47-41aa-4e3e-a8f4-c89e2454cf9d",
   "metadata": {},
   "source": [
    "11.5. Nested Dictionariey"
   ]
  },
  {
   "cell_type": "code",
   "execution_count": 51,
   "id": "6fffe4f8-408e-472d-ac71-ee7131cbb059",
   "metadata": {},
   "outputs": [
    {
     "name": "stdout",
     "output_type": "stream",
     "text": [
      "{'John': {'age': 25, 'grade': 'A'}, 'Alice': {'age': 23, 'grade': 'B'}}\n",
      "25\n",
      "B\n",
      "{'age': 25, 'grade': 'A+'}\n",
      "{'John': {'age': 25, 'grade': 'A+'}, 'Alice': {'age': 23, 'grade': 'B'}, 'Bob': {'age': 24, 'grade': 'B+'}}\n"
     ]
    }
   ],
   "source": [
    "student_info = {\n",
    "    'John': {\n",
    "        'age': 25,\n",
    "        'grade': 'A'\n",
    "    },\n",
    "    'Alice': {\n",
    "        'age': 23,\n",
    "        'grade': 'B'\n",
    "    }\n",
    "}\n",
    "\n",
    "print(student_info)  \n",
    "\n",
    "# Accessing nested dictionary values\n",
    "print(student_info['John']['age']) \n",
    "print(student_info['Alice']['grade']) \n",
    "\n",
    "# Modifying nested dictionary\n",
    "student_info['John']['grade'] = 'A+'\n",
    "print(student_info['John'])  \n",
    "\n",
    "# Adding new student\n",
    "student_info['Bob'] = {'age': 24, 'grade': 'B+'}\n",
    "print(student_info)  "
   ]
  },
  {
   "cell_type": "markdown",
   "id": "054ecc3b-6ec4-4f00-ab97-475c6de7adb4",
   "metadata": {},
   "source": [
    "11.6. Dictionary Comprehension"
   ]
  },
  {
   "cell_type": "code",
   "execution_count": 6,
   "id": "1a960976-a3bb-40a3-bca7-d771226a753c",
   "metadata": {},
   "outputs": [],
   "source": [
    "numbers = [1, 2, 3, 4, 5]\n",
    "\n",
    "# Doubling each number and creating a dictionary\n",
    "doubled_numbers = {num: num * 2 for num in numbers}\n",
    "\n",
    "# Squaring each number and creating a dictionary\n",
    "squared_numbers = {num: num ** 2 for num in numbers}\n",
    "\n",
    "# Combining two dictionaries\n",
    "combined_dict = {key: (value, squared_numbers.get(value, None)) for key, value in doubled_numbers.items()}\n",
    "\n",
    "# Filtering keys based on a condition\n",
    "filtered_dict = {key: value for key, value in combined_dict.items() if value[0] < 6}\n",
    "\n",
    "# Modifying values in the dictionary\n",
    "modified_dict = {key: value[0] * 10 for key, value in filtered_dict.items()}"
   ]
  },
  {
   "cell_type": "markdown",
   "id": "c1a729df-2035-4976-a8de-f3616a735e33",
   "metadata": {},
   "source": [
    "11.7. Methods"
   ]
  },
  {
   "cell_type": "code",
   "execution_count": 7,
   "id": "60fffd4f-61b0-448d-987e-4f98ede8aebb",
   "metadata": {},
   "outputs": [
    {
     "name": "stdout",
     "output_type": "stream",
     "text": [
      "{}\n",
      "{'brand': 'Ford', 'model': 'Mustang', 'year': 1964}\n",
      "{'key1': 0, 'key2': 0, 'key3': 0}\n",
      "Mustang\n",
      "15000\n",
      "dict_items([('brand', 'Ford'), ('model', 'Mustang'), ('year', 1964)])\n",
      "dict_keys(['brand', 'model', 'year', 'color'])\n",
      "Mustang {'brand': 'Ford', 'year': 1964, 'color': 'white'}\n",
      "{'brand': 'Ford', 'year': 1964}\n",
      "Bronco\n",
      "white\n",
      "{'brand': 'Ford', 'year': 1964, 'model': 'Bronco', 'color': 'White'}\n",
      "dict_values(['Ford', 1964, 'Bronco', 'White'])\n"
     ]
    }
   ],
   "source": [
    "car = {\n",
    "  \"brand\": \"Ford\",\n",
    "  \"model\": \"Mustang\",\n",
    "  \"year\": 1964\n",
    "}\n",
    "\n",
    "#1\n",
    "car.clear()\n",
    "print(car)\n",
    "\n",
    "car = {\n",
    "  \"brand\": \"Ford\",\n",
    "  \"model\": \"Mustang\",\n",
    "  \"year\": 1964\n",
    "}\n",
    "\n",
    "#2\n",
    "x = car.copy()\n",
    "print(x)\n",
    "\n",
    "#3\n",
    "x = ('key1', 'key2', 'key3')\n",
    "y = 0 \n",
    "thisdict = dict.fromkeys(x, y) # y - default is None\n",
    "print(thisdict) \n",
    "\n",
    "#4\n",
    "x = car.get(\"model\")\n",
    "print(x) \n",
    "\n",
    "x = car.get(\"price\", 15000)\n",
    "print(x)\n",
    "\n",
    "#5\n",
    "x = car.items()\n",
    "print(x) \n",
    "# could modify afterwards\n",
    "\n",
    "#6\n",
    "x = car.keys()\n",
    "car[\"color\"] = \"white\"\n",
    "print(x)\n",
    "\n",
    "#7\n",
    "x=car.pop(\"model\")\n",
    "print(x, car)\n",
    "\n",
    "#8\n",
    "car.popitem()\n",
    "print(car)\n",
    "\n",
    "#9\n",
    "x = car.setdefault(\"model\", \"Bronco\")\n",
    "print(x)\n",
    "\n",
    "x = car.setdefault(\"color\", \"white\")\n",
    "print(x)\n",
    "\n",
    "#10\n",
    "car.update({\"color\": \"White\"})\n",
    "print(car)\n",
    "\n",
    "#11\n",
    "x = car.values()\n",
    "print(x)"
   ]
  },
  {
   "cell_type": "markdown",
   "id": "e10cf4c5-918f-4082-8fca-285a477d47b7",
   "metadata": {},
   "source": [
    "**12. Sets and frozensets**"
   ]
  },
  {
   "cell_type": "code",
   "execution_count": 78,
   "id": "c02c7080-1e93-4930-aec3-e07228a00ec0",
   "metadata": {},
   "outputs": [],
   "source": [
    "basket={\"orange\", \"apple\", \"mango\", \"apple\", \"orange\"}"
   ]
  },
  {
   "cell_type": "code",
   "execution_count": 79,
   "id": "4d078e21-74c9-4e39-9cbc-e365a3ce05bc",
   "metadata": {},
   "outputs": [],
   "source": [
    "# description notion really bad  i"
   ]
  },
  {
   "cell_type": "code",
   "execution_count": 55,
   "id": "94d7800a-60c2-46fa-bf8d-d06d85a09dba",
   "metadata": {},
   "outputs": [],
   "source": [
    "# frozenset, intersection"
   ]
  },
  {
   "cell_type": "markdown",
   "id": "66508d57-a83a-411b-9dc6-f183a0d5f157",
   "metadata": {},
   "source": [
    "12.x. Methods"
   ]
  },
  {
   "cell_type": "code",
   "execution_count": 6,
   "id": "011436bb-dc15-4304-820f-243ea248515a",
   "metadata": {},
   "outputs": [
    {
     "name": "stdout",
     "output_type": "stream",
     "text": [
      "{'banana', 'cherry'}\n",
      "{'banana', 'cherry'}\n",
      "{'c'}\n",
      "{'c'}\n"
     ]
    }
   ],
   "source": [
    "#\n",
    "x = {\"apple\", \"banana\", \"cherry\"}\n",
    "y = {\"google\", \"microsoft\", \"apple\"}\n",
    "z = x.difference(y) \n",
    "print(z)\n",
    "\n",
    "#\n",
    "x = {\"apple\", \"banana\", \"cherry\"}\n",
    "y = {\"google\", \"microsoft\", \"apple\"}\n",
    "x.difference_update(y) \n",
    "print(x)\n",
    "#\n",
    "x = {\"a\", \"b\", \"c\"}\n",
    "y = {\"c\", \"d\", \"e\"}\n",
    "z = {\"f\", \"g\", \"c\"}\n",
    "\n",
    "result = x.intersection(y, z)\n",
    "print(result)\n",
    "\n",
    "#\n",
    "x = {\"a\", \"b\", \"c\"}\n",
    "y = {\"c\", \"d\", \"e\"}\n",
    "z = {\"f\", \"g\", \"c\"}\n",
    "\n",
    "x.intersection_update(y, z)\n",
    "\n",
    "print(x)"
   ]
  },
  {
   "cell_type": "markdown",
   "id": "b6d885df-32c1-4148-8799-417e962bb2a3",
   "metadata": {},
   "source": [
    "**13. Boolean Data Type**"
   ]
  },
  {
   "cell_type": "code",
   "execution_count": 1,
   "id": "0c3fe184-df0c-41b0-aa12-c7f8dcf581ee",
   "metadata": {},
   "outputs": [
    {
     "name": "stdout",
     "output_type": "stream",
     "text": [
      "It's a great day!\n",
      "You might need an umbrella or a jacket.\n",
      "True\n",
      "False\n",
      "It's hot outside!\n",
      "True\n",
      "False\n"
     ]
    }
   ],
   "source": [
    "# 1 Boolean variables\n",
    "x = True\n",
    "y = False\n",
    "\n",
    "# 2 Boolean expressions\n",
    "is_sunny = True\n",
    "is_raining = False\n",
    "temperature_above_25 = True\n",
    "\n",
    "# 3 Boolean operations\n",
    "sunny = True\n",
    "warm = True\n",
    "if sunny and warm:\n",
    "    print(\"It's a great day!\")\n",
    "\n",
    "raining = False\n",
    "cold = True\n",
    "if raining or cold:\n",
    "    print(\"You might need an umbrella or a jacket.\")\n",
    "\n",
    "# 4 Comparison operators\n",
    "x = 5\n",
    "y = 10\n",
    "print(x < y) \n",
    "print(x == y)  \n",
    "\n",
    "# 5 Conditional statements\n",
    "temperature = 30\n",
    "if temperature > 25:\n",
    "    print(\"It's hot outside!\")\n",
    "else:\n",
    "    print(\"It's not too hot.\")\n",
    "\n",
    "# 6 Boolean functions\n",
    "def is_even(num):\n",
    "    return num % 2 == 0\n",
    "\n",
    "print(is_even(4)) \n",
    "print(is_even(5)) \n",
    "\n",
    "# 7 Boolean values in data structures\n",
    "bool_list = [True, False, True]\n",
    "bool_dict = {'a': True, 'b': False}"
   ]
  },
  {
   "cell_type": "markdown",
   "id": "462cb862-993f-471c-94e9-251148d12742",
   "metadata": {},
   "source": [
    "**14. Functions**"
   ]
  },
  {
   "cell_type": "markdown",
   "id": "028a168a-fcfb-4a80-83b9-67ddc8d48440",
   "metadata": {},
   "source": [
    "14.1. Built-in Functions"
   ]
  },
  {
   "cell_type": "code",
   "execution_count": 28,
   "id": "79ee9d25-9ece-43d1-a7a6-c6e83a0f4953",
   "metadata": {},
   "outputs": [
    {
     "name": "stdout",
     "output_type": "stream",
     "text": [
      "moin\n",
      "moin,!servus\n",
      "He is awesome\n"
     ]
    },
    {
     "name": "stdin",
     "output_type": "stream",
     "text": [
      "age:  4\n"
     ]
    },
    {
     "name": "stdout",
     "output_type": "stream",
     "text": [
      "7\n",
      "<class 'float'>\n",
      "['a', 'b', 'c', 'd', 'e', 'f', 'g', 'h']\n",
      "['h', 'g', 'f', 'e', 'd', 'c', 'b', 'a']\n",
      "Vicky\n",
      "9\n",
      "[(0, 'apple'), (1, 'banana'), (2, 'cherry')]\n",
      "(('John', 'Jenny'), ('Charles', 'Christy'), ('Mike', 'Monica'))\n",
      "[2, 4]\n",
      "My name is Alice and I am 30 years old.\n",
      "86\n",
      "False\n",
      "True\n",
      "True\n",
      "{}\n",
      "77\n",
      "True\n",
      "True\n",
      "140725363271000\n",
      "Help on built-in function any in module builtins:\n",
      "\n",
      "any(iterable, /)\n",
      "    Return True if bool(x) is True for any x in the iterable.\n",
      "\n",
      "    If the iterable is empty, return False.\n",
      "\n",
      "None\n",
      "333.936\n",
      "['h', 'a', 'e', 'Y', ' ', 'y', 'e', 'H', ' ', 'n', 'i', 'o', 'M']\n",
      "[1, 4, 9, 16, 25]\n",
      "[(1, 'a'), (2, 'b'), (3, 'c')]\n"
     ]
    }
   ],
   "source": [
    "# most important Functions\n",
    "\n",
    "# 1 print()\n",
    "print(\"moin\")\n",
    "print(\"moin,\",\"servus\", sep=\"!\")\n",
    "print(\"He\", end=\" \") # default is new line\n",
    "\n",
    "print(\"is awesome\")\n",
    "\n",
    "# 2 input()\n",
    "input(\"age: \")\n",
    "\n",
    "# 3 len()\n",
    "print(len(\"heykkkk\"))\n",
    "\n",
    "# 4 type()\n",
    "print(type(99.88))\n",
    "\n",
    "# 5 range()\n",
    "range(0, 10, 2) # print with for loop\n",
    "\n",
    "# 6 open()\n",
    "\n",
    "# 7 str(), int(), float(), list(), tuple(), dict() constructor\n",
    "# see 2.5.\n",
    "\n",
    "\n",
    "# 8 sorted()\n",
    "a = (\"b\", \"g\", \"a\", \"d\", \"f\", \"c\", \"h\", \"e\") # numbers are sorted numerically\n",
    "x = sorted(a)\n",
    "print(x) \n",
    "\n",
    "a = (\"h\", \"b\", \"a\", \"c\", \"f\", \"d\", \"e\", \"g\")\n",
    "x = sorted(a, reverse=True)\n",
    "print(x)\n",
    "\n",
    "# 9 sum()\n",
    "a = (1, 2, 3, 4, 5)\n",
    "x = sum(a)\n",
    "\n",
    "a = (1, 2, 3, 4, 5)\n",
    "x = sum(a, 7) # add 7 to sum\n",
    "\n",
    "# 10 max(), min() they work the same\n",
    "x = max(\"Mike\", \"John\", \"Vicky\")\n",
    "print(x)\n",
    "\n",
    "a = (1, 5, 3, 9)\n",
    "x = max(a) \n",
    "print(x)\n",
    "\n",
    "# 11 abs()\n",
    "x = abs(-7.25)\n",
    "\n",
    "# 12 enumerate()\n",
    "\n",
    "x = ('apple', 'banana', 'cherry')\n",
    "y = enumerate(x)\n",
    "print(list(y))\n",
    "\n",
    "# 13 zip()\n",
    "\n",
    "a = (\"John\", \"Charles\", \"Mike\")\n",
    "b = (\"Jenny\", \"Christy\", \"Monica\", \"Vicky\")\n",
    "x = zip(a, b)\n",
    "print(tuple(x))\n",
    "\n",
    "# 14 map() later\n",
    "\n",
    "# 15 filter() later\n",
    "my_list = [1, 2, 3, 4, 5]\n",
    "filtered_list = list(filter(lambda x: x % 2 == 0, my_list))\n",
    "print(filtered_list)\n",
    "\n",
    "# 16 format()\n",
    "name = 'Alice'\n",
    "age = 30\n",
    "formatted_string = 'My name is {} and I am {} years old.'.format(name, age)\n",
    "print(formatted_string)\n",
    "\n",
    "#17 eval()\n",
    "result=\"55+31\"\n",
    "print(eval(result))\n",
    "\n",
    "#18 all()\n",
    "print(all([2, 1, 9, 0]))\n",
    "\n",
    "#19 any()\n",
    "print(any(\"0zzzzz\"))\n",
    "\n",
    "#20  delattr(), hasattr(), setattr()\n",
    "class MyClass:\n",
    "    x=55\n",
    "obj=MyClass()\n",
    "\n",
    "print(hasattr(obj, \"x\"))\n",
    "\n",
    "delattr(MyClass, \"x\")\n",
    "print(obj.__dict__)\n",
    "\n",
    "setattr(obj, \"y\", 77)\n",
    "print(obj.y)\n",
    "\n",
    "#21 isinstance()\n",
    "x=99\n",
    "print(isinstance(x, int))\n",
    "\n",
    "#22 issubclass()\n",
    "class A:\n",
    "    pass\n",
    "class B(A):\n",
    "    pass\n",
    "print(issubclass(B, A))    \n",
    "\n",
    "#23 globals() and locals() work same\n",
    "#print(globals())\n",
    "\n",
    "#24 id() memory address\n",
    "x=222\n",
    "print(id(x))\n",
    "\n",
    "#25 help()\n",
    "print(help(any))\n",
    "\n",
    "#26 round()\n",
    "y=333.93643\n",
    "print(round(y, 3))\n",
    "\n",
    "#27 reversed()\n",
    "iterable=\"Moin Hey Yeah\"\n",
    "new=list(reversed(iterable))\n",
    "print(new)\n",
    "\n",
    "#28 map()\n",
    "my_list = [1, 2, 3, 4, 5]\n",
    "squared_list = list(map(lambda x: x ** 2, my_list))\n",
    "print(squared_list)\n",
    "\n",
    "#29 zip()\n",
    "numbers = [1, 2, 3]\n",
    "letters = ['a', 'b', 'c']\n",
    "zipped_list = list(zip(numbers, letters))\n",
    "print(zipped_list)\n",
    "\n",
    "#30 iter() and next() at Iterator\n",
    "# x lambda() \n"
   ]
  },
  {
   "cell_type": "markdown",
   "id": "5c430497-c6bb-4018-aaad-97fd4d41e78d",
   "metadata": {},
   "source": [
    "14.2. Own Functions"
   ]
  },
  {
   "cell_type": "code",
   "execution_count": 34,
   "id": "9a6fd8c3-bc21-4a9d-a4b2-fc582b7113fb",
   "metadata": {},
   "outputs": [
    {
     "name": "stdout",
     "output_type": "stream",
     "text": [
      "5\n",
      "88989\n",
      "The youngest child is Linus\n",
      "The youngest child is Linus\n",
      "His last name is Refsnes\n"
     ]
    }
   ],
   "source": [
    "def hey(x): # x is parameter\n",
    "    print(len(x))\n",
    "    return x # end of execution after return\n",
    "print(hey(\"88989\"))    # argument x function call\n",
    "\n",
    "def my_function(*kids): # args\n",
    "  print(\"The youngest child is \" + kids[2])\n",
    "\n",
    "my_function(\"Emil\", \"Tobias\", \"Linus\")  \n",
    "\n",
    "def my_functionn(child3, child2, child1): # kwargs\n",
    "  print(\"The youngest child is \" + child3)\n",
    "\n",
    "my_functionn(child1 = \"Emil\", child2 = \"Tobias\", child3 = \"Linus\")\n",
    "\n",
    "def my_functionnn(**kid): # **kwargs\n",
    "  print(\"His last name is \" + kid[\"lname\"])\n",
    "\n",
    "my_functionnn(fname = \"Tobias\", lname = \"Refsnes\")\n",
    "\n",
    "def kp():\n",
    "    pass # empty function\n",
    "\n",
    "\n",
    "#global scope\n",
    "x=5 # global variable\n",
    "def locall():\n",
    "    #local scope\n",
    "    y=3 # local variable\n",
    "    global z # global statement\n",
    "    z=99 # global variable\n",
    "    "
   ]
  },
  {
   "cell_type": "markdown",
   "id": "1ab5e57f-a239-48a5-986f-fd699074b39b",
   "metadata": {},
   "source": [
    "14.2. Lambda"
   ]
  },
  {
   "cell_type": "code",
   "execution_count": 37,
   "id": "f3fbe4a6-c785-4f7a-8d4b-e9859a569c03",
   "metadata": {},
   "outputs": [
    {
     "name": "stdout",
     "output_type": "stream",
     "text": [
      "16\n"
     ]
    }
   ],
   "source": [
    "x=lambda l:l**2\n",
    "print(x(4))"
   ]
  },
  {
   "cell_type": "markdown",
   "id": "8567a2d0-c6a7-427c-9d1f-34c4ebaa8713",
   "metadata": {},
   "source": [
    "14.3. Recursion"
   ]
  },
  {
   "cell_type": "markdown",
   "id": "a4998bb0-5e62-4662-887c-0ffdd4676439",
   "metadata": {},
   "source": [
    "**15. Modules**"
   ]
  },
  {
   "cell_type": "code",
   "execution_count": 80,
   "id": "3b9f7401-6ca6-4a38-a078-fd63ddf15b9c",
   "metadata": {},
   "outputs": [],
   "source": [
    "#import xy as x\n",
    "# pip install/uninstall xy\n",
    "# list packages with pip list\n",
    "# access variables/functions with dot notation"
   ]
  },
  {
   "cell_type": "markdown",
   "id": "8c5450f0-c8b9-4c22-b7e1-716a6b1ecd69",
   "metadata": {},
   "source": [
    "**16. if statements**"
   ]
  },
  {
   "cell_type": "code",
   "execution_count": 1,
   "id": "4504c914-d2f1-4cd4-819c-a8185ff2e2e2",
   "metadata": {},
   "outputs": [
    {
     "name": "stdout",
     "output_type": "stream",
     "text": [
      "ok\n",
      "ok\n",
      "x\n"
     ]
    }
   ],
   "source": [
    "a=\"x\"\n",
    "if a ==\"x\":\n",
    "    print(\"ok\")\n",
    "elif a !=\"j\":\n",
    "    print(\"moin\")\n",
    "else:\n",
    "    print(\"no\")\n",
    "#short hand if \n",
    "if a == \"x\": print(\"ok\")\n",
    "# short hand else\n",
    "\n",
    "print(\"hey\") if a==\"k\" else print(a)"
   ]
  },
  {
   "cell_type": "markdown",
   "id": "4696ef37-6d91-495e-8a2b-7ac67747d713",
   "metadata": {},
   "source": [
    "**17. Loops**"
   ]
  },
  {
   "cell_type": "markdown",
   "id": "19dc4b21-349b-41e1-b5fe-389a4c9ee721",
   "metadata": {},
   "source": [
    "17.1. for loop"
   ]
  },
  {
   "cell_type": "code",
   "execution_count": null,
   "id": "545a4b86-26f9-4452-aabe-831bc242cfb8",
   "metadata": {},
   "outputs": [],
   "source": [
    "# iterate over sequences, sets, dictionaries\n",
    "for i in range(5):     \n",
    "    print(i)\n",
    "else:\n",
    "    print(\"Loop completed without encountering a break statement.\")"
   ]
  },
  {
   "cell_type": "markdown",
   "id": "0361e707-68da-4c2b-b23d-7004537311a2",
   "metadata": {},
   "source": [
    "17.2. while loop"
   ]
  },
  {
   "cell_type": "code",
   "execution_count": null,
   "id": "b92b42f7-6ef8-4fa6-843c-2df351a50465",
   "metadata": {},
   "outputs": [],
   "source": [
    "num = 0\n",
    "while num < 5:\n",
    "    print(num)\n",
    "    num += 1\n",
    "else:\n",
    "    print(\"Loop completed without encountering a break statement.\")"
   ]
  },
  {
   "cell_type": "markdown",
   "id": "54d1e4ca-5491-491d-bb58-65b4c4ee1906",
   "metadata": {},
   "source": [
    "**18. Iterator**"
   ]
  },
  {
   "cell_type": "code",
   "execution_count": null,
   "id": "ab0ad4c2-3f4b-4942-97eb-9cfb82e16d7d",
   "metadata": {},
   "outputs": [],
   "source": []
  },
  {
   "cell_type": "markdown",
   "id": "39664a3b-aa55-4991-8306-db2380e6e11e",
   "metadata": {},
   "source": [
    "**19. Generator**"
   ]
  },
  {
   "cell_type": "code",
   "execution_count": null,
   "id": "dfb4b439-de2d-4310-8e59-7fafac1af241",
   "metadata": {},
   "outputs": [],
   "source": []
  },
  {
   "cell_type": "markdown",
   "id": "12a1b619-5852-4059-a334-d0b62dc2717f",
   "metadata": {},
   "source": [
    "**20. Classes and objects**"
   ]
  },
  {
   "cell_type": "code",
   "execution_count": 52,
   "id": "3086c309-783a-45e5-8436-a174ac28d598",
   "metadata": {},
   "outputs": [
    {
     "name": "stdout",
     "output_type": "stream",
     "text": [
      "4\n",
      "John\n",
      "36\n",
      "John(36)\n"
     ]
    }
   ],
   "source": [
    "class MyClass():\n",
    "    x=4 # property\n",
    "p1=MyClass() # object\n",
    "print(p1.x) \n",
    "\n",
    "class Person:\n",
    "  def __init__(self, name, age): # init function\n",
    "    self.name = name\n",
    "    self.age = age\n",
    "  def __str__(self):\n",
    "    return f\"{self.name}({self.age})\" \n",
    "\n",
    "p1 = Person(\"John\", 36)\n",
    "\n",
    "print(p1.name)\n",
    "print(p1.age)\n",
    "\n",
    "# print p1 because of str function\n",
    "print(p1)\n",
    "del p1.name\n",
    "p1.age=37\n",
    "del p1\n",
    "\n",
    "class classic():\n",
    "    pass\n",
    "\n",
    "class Human: # create class\n",
    "     def __init__(self, n, o): # __init__() function\n",
    "         self.name = n # properties\n",
    "         self.occupation = o # properties\n",
    "     def do_work(self): # define methods\n",
    "         if self.occupation == \"tennis player\": # method 1\n",
    "             print(self.name, \"plays tennis\")\n",
    "         else self.occupation == \"actor\": # method 2\n",
    "             print(self.name, \"shoots a film\")\n",
    "\n",
    "     def speaks(self): # define methods\n",
    "         print(self.name, \"says how are you?\") # method\n",
    "\n",
    "tom = Human(\"tom cruise\", \"actor\") # object\n",
    "tom.do_work()  # returns tom cruise shoots a film\n",
    "tom.speaks()   # returns tom cruise says how are you?\n",
    "\n",
    "maria = Human(\"maria sharapova\", \"tennis player\") # object\n",
    "maria.do_work()  # returns maria sharapova plays tennis\n",
    "maria.speaks()   # returns maria sharapova says how are you?"
   ]
  },
  {
   "cell_type": "markdown",
   "id": "919fa3a0-c558-4834-9199-f9cafcdd164e",
   "metadata": {},
   "source": [
    "**21. Inheritance**"
   ]
  },
  {
   "cell_type": "code",
   "execution_count": null,
   "id": "a1982d4f-1efa-4a68-ac49-a06ae2a78ce0",
   "metadata": {},
   "outputs": [],
   "source": [
    "class A:\n",
    "    pass\n",
    "class B(A):\n",
    "    pass"
   ]
  },
  {
   "cell_type": "markdown",
   "id": "90b5b287-3cf4-45e3-b64f-f5fd671e84e0",
   "metadata": {},
   "source": [
    "**22. Exception Handling**"
   ]
  },
  {
   "cell_type": "code",
   "execution_count": 48,
   "id": "c861ea4a-ec82-497a-a6c9-d74fde8525a5",
   "metadata": {},
   "outputs": [
    {
     "name": "stdout",
     "output_type": "stream",
     "text": [
      "uu\n",
      "Nothing went wrong!\n",
      "Variable p is not defined\n",
      "Something went wrong\n",
      "The 'try except' is finished\n",
      "memory error\n"
     ]
    },
    {
     "ename": "TypeError",
     "evalue": "Only integers are allowed",
     "output_type": "error",
     "traceback": [
      "\u001b[1;31m---------------------------------------------------------------------------\u001b[0m",
      "\u001b[1;31mTypeError\u001b[0m                                 Traceback (most recent call last)",
      "Cell \u001b[1;32mIn[48], line 33\u001b[0m\n\u001b[0;32m     30\u001b[0m x \u001b[38;5;241m=\u001b[39m \u001b[38;5;124m\"\u001b[39m\u001b[38;5;124mhello\u001b[39m\u001b[38;5;124m\"\u001b[39m\n\u001b[0;32m     32\u001b[0m \u001b[38;5;28;01mif\u001b[39;00m \u001b[38;5;129;01mnot\u001b[39;00m \u001b[38;5;28mtype\u001b[39m(x) \u001b[38;5;129;01mis\u001b[39;00m \u001b[38;5;28mint\u001b[39m:\n\u001b[1;32m---> 33\u001b[0m   \u001b[38;5;28;01mraise\u001b[39;00m \u001b[38;5;167;01mTypeError\u001b[39;00m(\u001b[38;5;124m\"\u001b[39m\u001b[38;5;124mOnly integers are allowed\u001b[39m\u001b[38;5;124m\"\u001b[39m) \n",
      "\u001b[1;31mTypeError\u001b[0m: Only integers are allowed"
     ]
    }
   ],
   "source": [
    "x=\"uu\"\n",
    "try:\n",
    "  print(x)\n",
    "except:\n",
    "  print(\"An exception occurred\")\n",
    "else:\n",
    "    print(\"Nothing went wrong!\")\n",
    "    \n",
    "try:\n",
    "  print(p)\n",
    "except NameError:\n",
    "  print(\"Variable p is not defined\")\n",
    "except:\n",
    "  print(\"Something else went wrong\")    \n",
    "\n",
    "try:\n",
    "  print(q)\n",
    "except:\n",
    "  print(\"Something went wrong\")\n",
    "finally:\n",
    "  print(\"The 'try except' is finished\")\n",
    "\n",
    "\n",
    "\n",
    "try:\n",
    "    raise Exception(\"memory error\")\n",
    "except Exception as e: \n",
    "     print(e)\n",
    "    \n",
    "x = \"hello\"\n",
    "\n",
    "if not type(x) is int:\n",
    "  raise TypeError(\"Only integers are allowed\") "
   ]
  },
  {
   "cell_type": "markdown",
   "id": "008c25c1-b144-422d-a5f1-37051dca8150",
   "metadata": {},
   "source": [
    "**23. Files**"
   ]
  },
  {
   "cell_type": "code",
   "execution_count": null,
   "id": "ea881049-6a58-43f3-b7c6-d2a2f021f9c3",
   "metadata": {},
   "outputs": [],
   "source": []
  },
  {
   "cell_type": "code",
   "execution_count": null,
   "id": "5b67f826-8e60-41df-baba-8bfc25e2d7c7",
   "metadata": {},
   "outputs": [],
   "source": []
  }
 ],
 "metadata": {
  "kernelspec": {
   "display_name": "Python 3 (ipykernel)",
   "language": "python",
   "name": "python3"
  },
  "language_info": {
   "codemirror_mode": {
    "name": "ipython",
    "version": 3
   },
   "file_extension": ".py",
   "mimetype": "text/x-python",
   "name": "python",
   "nbconvert_exporter": "python",
   "pygments_lexer": "ipython3",
   "version": "3.12.0"
  }
 },
 "nbformat": 4,
 "nbformat_minor": 5
}
